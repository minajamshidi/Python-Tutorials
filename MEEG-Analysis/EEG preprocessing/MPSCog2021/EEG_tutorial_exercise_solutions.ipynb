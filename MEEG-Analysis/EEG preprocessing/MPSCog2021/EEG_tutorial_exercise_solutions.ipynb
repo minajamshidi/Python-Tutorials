{
 "cells": [
  {
   "cell_type": "markdown",
   "metadata": {},
   "source": [
    "# EEG/MEG signal preprocessing\n",
    "### ANSWERS TO THE EXERCISES\n",
    "\n",
    "#### Max Planck School of Cognition, Methods in Cognitive Neuroscience\n",
    "\n",
    "\n",
    "##### Contact: Mina Jamshidi Idaji @ MPI CBS, Leipzig, Germany, jamshidi@cbs.mpg.de"
   ]
  },
  {
   "cell_type": "markdown",
   "metadata": {},
   "source": [
    "**Note**: It is clear that you cannot run this notebook. It only includes the answers. You should copy the answers to the main notebook."
   ]
  },
  {
   "cell_type": "markdown",
   "metadata": {},
   "source": [
    "--------------\n",
    "--------------"
   ]
  },
  {
   "cell_type": "markdown",
   "metadata": {},
   "source": [
    "**EXERCISE 1**: Looking at `raw_orig.info`, could you explain the rationale of why the low-pass frequency is at 1000 Hz?\n",
    "\n",
    "Hint: Read about nyquist rate.\n",
    "\n",
    "**ANSWER:** Based on the nyquist theorem, \"the highest frequency which can be represented accurately is one half of the sampling rate\"[<a href=\"https://www.sciencedirect.com/topics/engineering/nyquist-theorem#:~:text=Nyquist's%20theorem%20states%20that%20a,higher%20than%20this%20is%20necessary.\"> REF </a>]. Check sources like <a href='https://en.wikipedia.org/wiki/Nyquist_rate'>Wikipedia: Nyquist Rate</a>, or search Youtube for tutorials.  "
   ]
  },
  {
   "cell_type": "markdown",
   "metadata": {},
   "source": [
    "---"
   ]
  },
  {
   "cell_type": "markdown",
   "metadata": {},
   "source": [
    "**EXERCISE 2:**\n",
    "\n",
    "* How long is the duration of the recording?\n",
    "* Hint: You can either use the `_times` attribute of `raw_orig` or use the number of samples and sampling rate to compute the duration of the recording.\n",
    "\n",
    "* How many channels does the recording have?\n",
    "\n",
    "**ANSWER:**  (in the cell below)"
   ]
  },
  {
   "cell_type": "code",
   "execution_count": null,
   "metadata": {},
   "outputs": [],
   "source": [
    "# TO BE COMPLETED BY STUDENTS # -------------------\n",
    "# ANSWER TO EXERCISE 2\n",
    "duration_1 = raw_orig._times[-1] # take the last element of _times attribute of raw_orig\n",
    "duration_2 = data_orig.shape[1]/raw_orig.info['sfreq'] # number of samples is equal to sampling rate multiplied by the duration in seconds. \n",
    "# Now you have the sampling rate and the number of samples, compute the duration.\n",
    "number_of_channels = raw_orig.info['nchan'] # You have this value in info attribute of raw class\n",
    "#---------------------------------------------------"
   ]
  },
  {
   "cell_type": "markdown",
   "metadata": {},
   "source": [
    "---"
   ]
  },
  {
   "cell_type": "markdown",
   "metadata": {},
   "source": [
    "**EXERCISE 3:** Complete the code below.\n",
    "\n",
    "Hint: you can go back to section 1, where we introduced the events and computed `event_mat` of the raw class. "
   ]
  },
  {
   "cell_type": "code",
   "execution_count": null,
   "metadata": {},
   "outputs": [],
   "source": [
    "# TO BE COMPLETED BY STUDENTS ------------------\n",
    "# ANSWER TO EXERCISE 3\n",
    "annot_onset = events_mat[:, 0]\n",
    "annot_description = events_mat[:, -1]\n",
    "# ---------------------------------------------"
   ]
  },
  {
   "cell_type": "markdown",
   "metadata": {},
   "source": [
    "---"
   ]
  },
  {
   "cell_type": "markdown",
   "metadata": {},
   "source": [
    "**EXERCISE 4**: complete the code below. "
   ]
  },
  {
   "cell_type": "code",
   "execution_count": null,
   "metadata": {},
   "outputs": [],
   "source": [
    "# TO BE COMPLETED BY STUDENTS ------------------\n",
    "# ANSWER TO EXERCISE 4\n",
    "ec_array = np.zeros(annot_description.shape)  # build an array of zeros with the same size as annot_description\n",
    "# ---------------------------------------------"
   ]
  },
  {
   "cell_type": "markdown",
   "metadata": {},
   "source": [
    "---"
   ]
  },
  {
   "cell_type": "markdown",
   "metadata": {},
   "source": [
    "**EXERCISE 6**: Determine another good alpha source. Plot the PSD. \n",
    "\n",
    "**ANSWER:** component 14: Looking at the time series it has the clear alpha pattern. The topography also shows that it is a tangential dipole in the occipital region. In the PSD you see the clear alpha peak (around 10 Hz) and beta peak (around 20Hz)."
   ]
  },
  {
   "cell_type": "code",
   "execution_count": null,
   "metadata": {},
   "outputs": [],
   "source": [
    "# TO BE COMPLETED BY STUDENTS ------------------\n",
    "# ANSWER TO EXERCISE 6\n",
    "cmp_rej = 14\n",
    "ax = hf.plot_psd(src[cmp_rej, :], fs=raw.info['sfreq'], f_max=45)\n",
    "plt.title('PSD of component #14 as an alpha source signal')\n",
    "# ---------------------------------------------"
   ]
  },
  {
   "cell_type": "markdown",
   "metadata": {},
   "source": [
    "---"
   ]
  },
  {
   "cell_type": "markdown",
   "metadata": {},
   "source": [
    "**EXERCISE 8:** You can see three channels which are flying! They are noisy with muscle artifact. Using the interactive window of `plot_psd`, determine these three channels. Look at the figure of 10-20 EEG system. Where are they located? Can you determine the ICA component corresponding to this noise source? Plot its PSD and add it to the bad ICA components list."
   ]
  },
  {
   "cell_type": "markdown",
   "metadata": {},
   "source": [
    "**ANSWER:** Component #2 "
   ]
  },
  {
   "cell_type": "code",
   "execution_count": null,
   "metadata": {},
   "outputs": [],
   "source": [
    "# TO BE COMPLETED BY STUDENTS ------------------\n",
    "# ANSWER TO EXERCISE 8\n",
    "ica.exclude += [2]\n",
    "# ---------------------------------------------"
   ]
  }
 ],
 "metadata": {
  "kernelspec": {
   "display_name": "Python 3",
   "language": "python",
   "name": "python3"
  },
  "language_info": {
   "codemirror_mode": {
    "name": "ipython",
    "version": 3
   },
   "file_extension": ".py",
   "mimetype": "text/x-python",
   "name": "python",
   "nbconvert_exporter": "python",
   "pygments_lexer": "ipython3",
   "version": "3.6.9"
  }
 },
 "nbformat": 4,
 "nbformat_minor": 2
}
