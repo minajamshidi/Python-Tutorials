{
  "nbformat": 4,
  "nbformat_minor": 0,
  "metadata": {
    "colab": {
      "name": "fsaverage_headmodel.ipynb",
      "provenance": [],
      "toc_visible": true
    },
    "kernelspec": {
      "name": "python3",
      "display_name": "Python 3"
    }
  },
  "cells": [
    {
      "cell_type": "markdown",
      "metadata": {
        "id": "Ieu5y71vQ1xN"
      },
      "source": [
        "# **Standard Headmodels with MNE Python**"
      ]
    },
    {
      "cell_type": "markdown",
      "metadata": {
        "id": "w1ZxpF65QvnH"
      },
      "source": [
        "(c) Mina Jamshidi Idaji (https://github.com/minajamshid), Dec 2020\n"
      ]
    },
    {
      "cell_type": "markdown",
      "metadata": {
        "id": "Adwa8L-uRp3M"
      },
      "source": [
        "\n",
        "\n",
        "---\n",
        "\n",
        "\n"
      ]
    },
    {
      "cell_type": "markdown",
      "metadata": {
        "id": "dsHjqeUxR7vI"
      },
      "source": [
        "In this tutorial, we will see how to build inverse operators with MNE Python. [This tutorial](https://mne.tools/dev/auto_tutorials/source-modeling/plot_eeg_no_mri.html#sphx-glr-auto-tutorials-source-modeling-plot-eeg-no-mri-py) is the original tutorial from MNE Python that you may consider checking out."
      ]
    },
    {
      "cell_type": "markdown",
      "metadata": {
        "id": "wfBK66GHTGoN"
      },
      "source": [
        " Before starting, make sure you have MNE Python installed. If you use the notebook on google colab (or anywhere else) and you do not have MNE Python, use the followingline to install it:\n",
        "\n",
        "    !pip install mne\n",
        "\n",
        "You may get a warning, saying that *MNE is installed in '/root/.local/bin' which is not on PATH. Consider adding this directory to PATH or, if you prefer to suppress this warning, use --no-warn-script-location.*. If so, run the follwing line:\n",
        "\n",
        "    !cp -r /root/.local/bin /usr/local\n",
        "\n",
        "Note that you have to restart the kernel in order to be able to import the newly installed package.\n",
        "\n",
        "Otherwise, if you are using the Python IDE on your local machine just use `pip` to install MNE."
      ]
    },
    {
      "cell_type": "code",
      "metadata": {
        "id": "9_brjc2hC-YI"
      },
      "source": [
        "import os.path as op\n",
        "import numpy as np\n",
        "import matplotlib.pyplot as plt\n",
        "import mne\n",
        "import mne.minimum_norm as minnorm\n",
        "from mne.datasets import fetch_fsaverage"
      ],
      "execution_count": 3,
      "outputs": []
    },
    {
      "cell_type": "markdown",
      "metadata": {
        "id": "XWJvlWUyTETU"
      },
      "source": [
        "Let's start with downloading the fsaverage files. MNE Python provides us with BEM solutions. The following likes of codes will download the files into a file called *mne_data* in your root directory."
      ]
    },
    {
      "cell_type": "code",
      "metadata": {
        "colab": {
          "base_uri": "https://localhost:8080/"
        },
        "id": "alQMtB8ZRnAn",
        "outputId": "6ee6362e-aabe-4017-ca87-d37b832102c9"
      },
      "source": [
        "fs_dir = fetch_fsaverage(verbose=True)\n",
        "subjects_dir = op.dirname(fs_dir)\n",
        "subject = 'fsaverage'"
      ],
      "execution_count": 7,
      "outputs": [
        {
          "output_type": "stream",
          "text": [
            "0 files missing from /root/.local/lib/python3.6/site-packages/mne/datasets/_fsaverage/root.txt in /root/mne_data/MNE-fsaverage-data\n",
            "0 files missing from /root/.local/lib/python3.6/site-packages/mne/datasets/_fsaverage/bem.txt in /root/mne_data/MNE-fsaverage-data/fsaverage\n"
          ],
          "name": "stdout"
        }
      ]
    },
    {
      "cell_type": "markdown",
      "metadata": {
        "id": "mlspPVO8addf"
      },
      "source": [
        "We wanna build a head model with ~8000 nodes. Note that the number of vertices should be as high as it can sample the *curvature* of the brain! For this Purpose, we put the variable `_oct=6` to determine the spacing. You may vist [here](https://mne.tools/dev/generated/mne.setup_source_space.html#mne.setup_source_space) for learning about spacing.\n",
        "\n",
        "In the cell below, I define some directories, where we will save in or read from."
      ]
    },
    {
      "cell_type": "code",
      "metadata": {
        "id": "WcATfSS5ZpPK"
      },
      "source": [
        "_oct = '6'\n",
        "\n",
        "trans_dir = op.join(subjects_dir, subject, 'bem', subject + '-trans.fif')\n",
        "bem_sol_dir = op.join(subjects_dir, subject, 'bem', subject + '-5120-5120-5120-bem-sol.fif')\n",
        "src_dir = op.join(subjects_dir, subject, 'bem', subject + '-oct' + _oct + '-src.fif')\n",
        "fwd_dir = op.join(subjects_dir, subject, 'bem', subject + '-oct' + _oct + '-fwd.fif')\n",
        "inv_op_dir = op.join(subjects_dir, subject, 'bem', subject + '-oct' + _oct + '-inv.fif')"
      ],
      "execution_count": 8,
      "outputs": []
    },
    {
      "cell_type": "markdown",
      "metadata": {
        "id": "piKPT-cHbZSV"
      },
      "source": [
        "The `trans_dir` is the path to the coregistration of the standard electrode positions that comes in mne_data. The other directories relate to BEM solution, source space (saving the nodes), forward model, and inverse operator.\n"
      ]
    },
    {
      "cell_type": "markdown",
      "metadata": {
        "id": "wOO_X2Sjcx1Z"
      },
      "source": [
        "As the first step, let's build the source space, i.e. the sampled vertices. The output is an MNE data type [*SourceSpaces*](https://mne.tools/dev/generated/mne.SourceSpaces.html#mne.SourceSpaces)."
      ]
    },
    {
      "cell_type": "code",
      "metadata": {
        "colab": {
          "base_uri": "https://localhost:8080/"
        },
        "collapsed": true,
        "id": "xbe6XEmMcwAp",
        "outputId": "05e27692-d8d6-4bdf-8fb0-551b9e776ecd"
      },
      "source": [
        "src = mne.setup_source_space(subject, spacing='oct'+_oct, subjects_dir=subjects_dir, add_dist=False)\n",
        "src.save(src_dir, overwrite=True)"
      ],
      "execution_count": 11,
      "outputs": [
        {
          "output_type": "stream",
          "text": [
            "Setting up the source space with the following parameters:\n",
            "\n",
            "SUBJECTS_DIR = /root/mne_data/MNE-fsaverage-data\n",
            "Subject      = fsaverage\n",
            "Surface      = white\n",
            "Octahedron subdivision grade 6\n",
            "\n",
            ">>> 1. Creating the source space...\n",
            "\n",
            "Doing the octahedral vertex picking...\n",
            "Loading /root/mne_data/MNE-fsaverage-data/fsaverage/surf/lh.white...\n",
            "Mapping lh fsaverage -> oct (6) ...\n",
            "    Warning: zero size triangles: [3 4]\n",
            "    Triangle neighbors and vertex normals...\n",
            "Loading geometry from /root/mne_data/MNE-fsaverage-data/fsaverage/surf/lh.sphere...\n",
            "Setting up the triangulation for the decimated surface...\n",
            "loaded lh.white 4098/163842 selected to source space (oct = 6)\n",
            "\n",
            "Loading /root/mne_data/MNE-fsaverage-data/fsaverage/surf/rh.white...\n",
            "Mapping rh fsaverage -> oct (6) ...\n",
            "    Warning: zero size triangles: [3 4]\n",
            "    Triangle neighbors and vertex normals...\n",
            "Loading geometry from /root/mne_data/MNE-fsaverage-data/fsaverage/surf/rh.sphere...\n",
            "Setting up the triangulation for the decimated surface...\n",
            "loaded rh.white 4098/163842 selected to source space (oct = 6)\n",
            "\n",
            "You are now one step closer to computing the gain matrix\n",
            "    Write a source space...\n",
            "    [done]\n",
            "    Write a source space...\n",
            "    [done]\n",
            "    2 source spaces written\n"
          ],
          "name": "stdout"
        }
      ]
    },
    {
      "cell_type": "markdown",
      "metadata": {
        "id": "pBhKRzJlc_Qo"
      },
      "source": [
        "In order to get to know the structure, run the following cell. "
      ]
    },
    {
      "cell_type": "code",
      "metadata": {
        "colab": {
          "base_uri": "https://localhost:8080/"
        },
        "id": "TX5SzxIwc9Qw",
        "outputId": "892f2341-ce78-4d4d-8150-f412cbf1c6cd"
      },
      "source": [
        "print(len(src))"
      ],
      "execution_count": 13,
      "outputs": [
        {
          "output_type": "stream",
          "text": [
            "2\n"
          ],
          "name": "stdout"
        }
      ]
    },
    {
      "cell_type": "markdown",
      "metadata": {
        "id": "EFfYgGChdp_n"
      },
      "source": [
        "You see that `src` is like a list with length 2. The `src[0]` is the vertices of the left hemisphere and `src[1]` the vertices of the right hemisphere. Ren the cell below to see how many nodes we have:"
      ]
    },
    {
      "cell_type": "code",
      "metadata": {
        "colab": {
          "base_uri": "https://localhost:8080/"
        },
        "id": "bg-aneQIeAl9",
        "outputId": "890803ca-0487-49fe-f855-ec0b0713e7d3"
      },
      "source": [
        "print('Number of vertices in the left hemisphere:', src[0]['vertno'].shape[0])\n",
        "print('Number of vertices in the right hemisphere:', src[1]['vertno'].shape[0])"
      ],
      "execution_count": 15,
      "outputs": [
        {
          "output_type": "stream",
          "text": [
            "Number of vertices in the left hemisphere: 4098\n",
            "Number of vertices in the right hemisphere: 4098\n"
          ],
          "name": "stdout"
        }
      ]
    },
    {
      "cell_type": "markdown",
      "metadata": {
        "id": "udKnlRAfeOaw"
      },
      "source": [
        "As said before, it is about ~8000 vertices."
      ]
    },
    {
      "cell_type": "markdown",
      "metadata": {
        "id": "UuZi8arib7n8"
      },
      "source": [
        "Now, we will build a forward solution that account a large number of electrodes (~300). Therefore, we can use it for any electrode setting. For this purpose, we load a standard montage from MNE library, and do a trick to get the channel locations. What we do is practically build a raw structure that contains all the ~300 electrodes and then set its montage. Eventually, the info attribute, saved in `**raw_info**` is what we need for forward modelling."
      ]
    },
    {
      "cell_type": "code",
      "metadata": {
        "colab": {
          "base_uri": "https://localhost:8080/"
        },
        "id": "vSCd_y89cGKY",
        "outputId": "840e5d92-b943-41b7-db35-f0fcb6aa7523"
      },
      "source": [
        "montage = mne.channels.make_standard_montage('standard_1005')\n",
        "clab = montage.ch_names\n",
        "raw_info = mne.create_info(ch_names=clab, sfreq=1000, ch_types=['eeg'] * len(clab))\n",
        "data1 = np.zeros((len(clab), 1))\n",
        "raw_temp = mne.io.RawArray(data1, raw_info)\n",
        "raw_temp.set_montage(montage)\n",
        "raw_info = raw_temp.info"
      ],
      "execution_count": 10,
      "outputs": [
        {
          "output_type": "stream",
          "text": [
            "Creating RawArray with float64 data, n_channels=343, n_times=1\n",
            "    Range : 0 ... 0 =      0.000 ...     0.000 secs\n",
            "Ready.\n"
          ],
          "name": "stdout"
        }
      ]
    },
    {
      "cell_type": "markdown",
      "metadata": {
        "id": "4koylUmBcT8o"
      },
      "source": [
        "Forward modeling is done in the cell below:"
      ]
    },
    {
      "cell_type": "code",
      "metadata": {
        "colab": {
          "base_uri": "https://localhost:8080/"
        },
        "collapsed": true,
        "id": "ajq60_ENctgj",
        "outputId": "11ffcbcd-01df-46d1-a563-3c843b140d77"
      },
      "source": [
        "fwd = mne.make_forward_solution(raw_info, trans=trans_dir, src=src_dir,\n",
        "                                bem=bem_sol_dir, eeg=True, mindist=5.0, n_jobs=2)\n",
        "mne.write_forward_solution(fwd_dir, fwd, overwrite=True, verbose=None)"
      ],
      "execution_count": 17,
      "outputs": [
        {
          "output_type": "stream",
          "text": [
            "    Write a source space...\n",
            "    [done]\n",
            "    Write a source space...\n",
            "    [done]\n",
            "    2 source spaces written\n"
          ],
          "name": "stdout"
        }
      ]
    },
    {
      "cell_type": "markdown",
      "metadata": {
        "id": "uVusBZ0SegsQ"
      },
      "source": [
        "The leadfiled matrix is saved in `fwd['sol']['data']`. Check the dimensions:"
      ]
    },
    {
      "cell_type": "code",
      "metadata": {
        "colab": {
          "base_uri": "https://localhost:8080/"
        },
        "id": "m1_3YqAse844",
        "outputId": "8375220a-a499-4f3e-9a9d-032f9a619d7e"
      },
      "source": [
        "leadfield_3D = fwd['sol']['data']\n",
        "print(leadfield_3D.shape)"
      ],
      "execution_count": 18,
      "outputs": [
        {
          "output_type": "stream",
          "text": [
            "(343, 24588)\n"
          ],
          "name": "stdout"
        }
      ]
    },
    {
      "cell_type": "markdown",
      "metadata": {
        "id": "VwkA_xfbfBxL"
      },
      "source": [
        "As you expected, the first dimension is the number of electrodes and the second one, the source space vertices. However, we saw that we have ~8000 vertices on the source space. Here we have ~24000 vertices. The reason is that the forward solution that we built in `fwd` is not restricted regarding the orientation of the dipoles located on each vertex. Therefore, each vertex has three values, coresponding to its orientation. this results in $3\\times 8K=25K$ values for the leadfield.\n",
        "\n",
        "In many cases, we use the fixed-direction soltion, i.e. we restrict the orientation of the dipoles to the direction perpendicular to the cortical surface. Let's do it and then check the leadfield:"
      ]
    },
    {
      "cell_type": "code",
      "metadata": {
        "colab": {
          "base_uri": "https://localhost:8080/"
        },
        "id": "S3Lns7P7efbK",
        "outputId": "5db79cbe-4b0a-4764-84f1-d88dce0f3f45"
      },
      "source": [
        "fwd_fixed = mne.convert_forward_solution(fwd, surf_ori=True, force_fixed=True, use_cps=True)\n",
        "leadfield_normal = fwd_fixed['sol']['data']\n",
        "print(leadfield_normal.shape)\n"
      ],
      "execution_count": 19,
      "outputs": [
        {
          "output_type": "stream",
          "text": [
            "    No patch info available. The standard source space normals will be employed in the rotation to the local surface coordinates....\n",
            "    Changing to fixed-orientation forward solution with surface-based source orientations...\n",
            "    [done]\n",
            "(343, 8196)\n"
          ],
          "name": "stdout"
        }
      ]
    },
    {
      "cell_type": "markdown",
      "metadata": {
        "id": "YNi8Qj-lgI59"
      },
      "source": [
        "No surprise that the second dimension is now equal to the number of vertices, i.e. one value per vertex."
      ]
    },
    {
      "cell_type": "markdown",
      "metadata": {
        "id": "KFwiN1Gxggen"
      },
      "source": [
        "So... Up to here, we have saved the forward solution. If you have a fixed number of electrodes for all subjects, then you may compute the inverse solution and save it. Otherwise, you have to compute it separetely for each subject. \n",
        "\n",
        "Inthe following, we compute the inverse solution for the whole ~300 electrode setting."
      ]
    },
    {
      "cell_type": "markdown",
      "metadata": {
        "id": "frOKBQvXhism"
      },
      "source": [
        "We need a covariance matrix of the noise. If you have event-related data, you can use the baseline data. Otherwise, we set it to identity matrix. However, in order to account for the data-length bias, I calculate the covariance matrix of white Gaussian with hte same number of channels and data-length as our data (here ~300 channels and I put it as 8min data with sampling rate of 250)."
      ]
    },
    {
      "cell_type": "code",
      "metadata": {
        "colab": {
          "base_uri": "https://localhost:8080/"
        },
        "id": "KW4EtN7Hgw_-",
        "outputId": "e4fba0a1-58cd-4a95-83e0-970bc5535f20"
      },
      "source": [
        "size1 = (len(clab), 8*60*250) # this should be the size of your data\n",
        "data = np.random.normal(loc=0.0, scale=1.0, size=size1)\n",
        "raw1 = mne.io.RawArray(data, raw.info)\n",
        "noise_cov = mne.compute_raw_covariance(raw1, tmin=0, tmax=None)"
      ],
      "execution_count": 20,
      "outputs": [
        {
          "output_type": "stream",
          "text": [
            "Creating RawArray with float64 data, n_channels=343, n_times=120000\n",
            "    Range : 0 ... 119999 =      0.000 ...   119.999 secs\n",
            "Ready.\n",
            "Using up to 600 segments\n",
            "Number of samples used : 120000\n",
            "[done]\n"
          ],
          "name": "stdout"
        }
      ]
    },
    {
      "cell_type": "markdown",
      "metadata": {
        "id": "qBt0N3b5iKjS"
      },
      "source": [
        "Now we compute the inverse solution. Note that instead of raw_info, you may use the `info` attribute of your `raw` file."
      ]
    },
    {
      "cell_type": "code",
      "metadata": {
        "colab": {
          "base_uri": "https://localhost:8080/"
        },
        "id": "xgwZlIqviHOZ",
        "outputId": "06cb4679-10b7-4a42-fbba-c2855a63bca7"
      },
      "source": [
        "inv_op = mne.minimum_norm.make_inverse_operator(raw_info, fwd, noise_cov,\n",
        "                                                fixed=False, loose=0.2, depth=0.8)\n",
        "mne.minimum_norm.write_inverse_operator(inv_op_dir, inv_op)"
      ],
      "execution_count": 21,
      "outputs": [
        {
          "output_type": "stream",
          "text": [
            "Converting forward solution to surface orientation\n",
            "    No patch info available. The standard source space normals will be employed in the rotation to the local surface coordinates....\n",
            "    Converting to surface-based source orientations...\n",
            "    [done]\n",
            "Computing inverse operator with 343 channels.\n",
            "    343 out of 343 channels remain after picking\n",
            "Selected 343 channels\n",
            "Creating the depth weighting matrix...\n",
            "    343 EEG channels\n",
            "    limit = 8197/8196 = 2.032378\n",
            "    scale = 748782 exp = 0.8\n",
            "Applying loose dipole orientations to surface source spaces: 0.2\n",
            "Whitening the forward solution.\n",
            "Computing rank from covariance with rank=None\n",
            "    Using tolerance 0.00084 (2.2e-16 eps * 343 dim * 1.1e+10  max singular value)\n",
            "    Estimated rank (eeg): 343\n",
            "    EEG: rank 343 computed from 343 data channels with 0 projectors\n",
            "    Setting small EEG eigenvalues to zero (without PCA)\n"
          ],
          "name": "stdout"
        },
        {
          "output_type": "stream",
          "text": [
            "<ipython-input-21-dc7f68729e43>:2: RuntimeWarning: No average EEG reference present in info[\"projs\"], covariance may be adversely affected. Consider recomputing covariance using with an average eeg reference projector added.\n",
            "  fixed=False, loose=0.2, depth=0.8)\n",
            "<ipython-input-21-dc7f68729e43>:2: RuntimeWarning: No average EEG reference present in info[\"projs\"], covariance may be adversely affected. Consider recomputing covariance using with an average eeg reference projector added.\n",
            "  fixed=False, loose=0.2, depth=0.8)\n"
          ],
          "name": "stderr"
        },
        {
          "output_type": "stream",
          "text": [
            "Creating the source covariance matrix\n",
            "Adjusting source covariance matrix.\n",
            "Computing SVD of whitened and weighted lead field matrix.\n",
            "    largest singular value = 11.1047\n",
            "    scaling factor to adjust the trace = 6.65604e+09\n",
            "Write inverse operator decomposition in /root/mne_data/MNE-fsaverage-data/fsaverage/bem/fsaverage-oct6-inv.fif...\n",
            "    Write a source space...\n",
            "    [done]\n",
            "    Write a source space...\n",
            "    [done]\n",
            "    2 source spaces written\n",
            "    Writing inverse operator info...\n",
            "    Writing noise covariance matrix.\n",
            "    Writing source covariance matrix.\n",
            "    Writing orientation priors.\n",
            "    [done]\n"
          ],
          "name": "stdout"
        }
      ]
    },
    {
      "cell_type": "markdown",
      "metadata": {
        "id": "w2Fh9v_xidqj"
      },
      "source": [
        "You see that we did not fix the orientation. Now let's take a look at what we computed. To do so, we first restrict the direction and the inversion method."
      ]
    },
    {
      "cell_type": "code",
      "metadata": {
        "colab": {
          "base_uri": "https://localhost:8080/"
        },
        "id": "DwbEd5kiiGgq",
        "outputId": "9834ca4c-bd70-4ba8-d52f-008eeb9d05df"
      },
      "source": [
        "inv_method = 'eLORETA'\n",
        "inv_op = minnorm.prepare_inverse_operator(inv_op, nave=1, lambda2=0.05, method=inv_method)\n",
        "inv_sol, _, vertno, source_nn = minnorm.inverse._assemble_kernel(inv=inv_op, label=None, method=inv_method, pick_ori='normal')"
      ],
      "execution_count": 22,
      "outputs": [
        {
          "output_type": "stream",
          "text": [
            "Preparing the inverse operator for use...\n",
            "    Scaled noise and source covariance from nave = 1 to nave = 1\n",
            "    Created the regularized inverter\n",
            "    The projection vectors do not apply to these channels.\n",
            "    Created the whitener using a noise covariance matrix with rank 343 (0 small eigenvalues omitted)\n",
            "    Computing optimized source covariance (eLORETA)...\n",
            "        Using independent orientation weights\n",
            "        Fitting up to 20 iterations (this make take a while)...\n",
            "        Converged on iteration 10 (3.4e-07 < 1e-06)\n",
            "        Updating inverse with weighted eigen leads\n",
            "[done]\n",
            "    Eigenleads already weighted ... \n"
          ],
          "name": "stdout"
        }
      ]
    },
    {
      "cell_type": "markdown",
      "metadata": {
        "id": "H_hoVfQtiuM4"
      },
      "source": [
        "The variable `inv_sol` includes the inverse solution. Let's look at its shape:"
      ]
    },
    {
      "cell_type": "code",
      "metadata": {
        "colab": {
          "base_uri": "https://localhost:8080/"
        },
        "id": "3fHp0gnzizMc",
        "outputId": "d0d13f54-49d1-4563-df76-543aa42fc2ce"
      },
      "source": [
        "print(inv_sol.shape)"
      ],
      "execution_count": 23,
      "outputs": [
        {
          "output_type": "stream",
          "text": [
            "(8196, 343)\n"
          ],
          "name": "stdout"
        }
      ]
    },
    {
      "cell_type": "markdown",
      "metadata": {
        "id": "udFqrgnujCkb"
      },
      "source": [
        "You see that t is vertics $\\times$ electrodes. One option can be that you save this operator and for each subject select the electrodes that you have. The only challenge is that you should rearrage the rows so that the arrangement is the same as your electrode sequence. Otherwise, if you have ~60 electrodes if you have the forward solution saved, it does not take time to compute it for each subject separately. "
      ]
    }
  ]
}