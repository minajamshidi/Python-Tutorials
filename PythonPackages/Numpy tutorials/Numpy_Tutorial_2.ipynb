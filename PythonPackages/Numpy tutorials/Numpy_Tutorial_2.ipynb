{
 "cells": [
  {
   "cell_type": "markdown",
   "metadata": {},
   "source": [
    "# Playing with Numpy\n",
    "\n",
    "In this tutorial, I tried to include questions that help a Python beginner to get started with Numpy. I believe this notebook is mostly like a play ground for a beginner to play with numpy functions and explore this important Python package.\n",
    "\n",
    "I know there are many Numpy notebooks out there, but I would say the advantage of this notebook over other notebooks I saw is that I prepared the questions looking back at the time I was learning Python and Numpy. Therefore, the questions are based on the practical points that I came across during my self-learning of Python - not as a professional Python programmer who wants to teach others. Therefore, the structure of the notebook seems a bit messy and like a self-taught learner's notebook, which I don't find a negative aspect and I kind of intentionally prepared the questions in this direction. Because, I find self-learning the best practice of learning programming. One should get hands dirty and play with functions. This notebook can guide a Python beginner to learn Numpy by self-learning! If you are interested to use this notebook as your play ground, I suggest you not to look at the answers and write your own by googling. Google is the best source of learning programming. Look at this notebook as a source of what to google!\n",
    "\n",
    "The notebook is not very coherent since it was not prepared for a systematic workshop, but I just prepared it for a friend.\n",
    "\n",
    "(C) prepared by Mina Jamshidi (https://github.com/minajamshidi) (2020)."
   ]
  },
  {
   "cell_type": "markdown",
   "metadata": {},
   "source": [
    "## append/concatenate ndarrays\n",
    "\n",
    "Warning: You may face multiple errors while doing these excercises! I didn't point to the potential errors intentionally so that you can deal with them yourself. I guess, the answer of almost all of your questions can be found in our previous practice excercises. However, you may not find those answers (don't worry), these potential errors are very specific AND common. We can always go through the questions with each other. :-)\n",
    "\n",
    "Of course, you may not face any errors :-)"
   ]
  },
  {
   "cell_type": "markdown",
   "metadata": {},
   "source": [
    "* Check np.concatenate and np.append. Pay attention to axis parameter, especially axis=None.\n",
    "* Build two ndarrays of size (2, 3) and (4, 3): concatenate them along their rows."
   ]
  },
  {
   "cell_type": "code",
   "execution_count": null,
   "metadata": {},
   "outputs": [],
   "source": []
  },
  {
   "cell_type": "markdown",
   "metadata": {},
   "source": [
    "* Concatenate a zero-size empty array, y, to a random array of size (1, 10), called x. Call the new array z."
   ]
  },
  {
   "cell_type": "code",
   "execution_count": null,
   "metadata": {},
   "outputs": [],
   "source": []
  },
  {
   "cell_type": "markdown",
   "metadata": {},
   "source": [
    "* Concatenate z to a new array of size (1, 10)."
   ]
  },
  {
   "cell_type": "code",
   "execution_count": null,
   "metadata": {},
   "outputs": [],
   "source": []
  },
  {
   "cell_type": "markdown",
   "metadata": {},
   "source": [
    "* Concatenate a zero-size empty array, y, to a random array of size (10, 1), called x. Call the new array z.\n",
    "* Concatenate z to a new array of size (10, 1)."
   ]
  },
  {
   "cell_type": "code",
   "execution_count": null,
   "metadata": {},
   "outputs": [],
   "source": []
  },
  {
   "cell_type": "markdown",
   "metadata": {},
   "source": [
    "* make a zero-size empty array z.\n",
    "* Write a for loop (iterating 5 times). In each iteration:\n",
    "    * produce a random vector x of size 10x1.\n",
    "    * append/concatenate x to z.\n",
    "* The final result should be z, which is the concatenation of all vectors produced inside the for loop."
   ]
  },
  {
   "cell_type": "code",
   "execution_count": null,
   "metadata": {},
   "outputs": [],
   "source": []
  },
  {
   "cell_type": "markdown",
   "metadata": {},
   "source": [
    "* What is a more efficient way of doing the above task reformulated like this: there are 5 random vectors of size 10x1, which should be saved within a for loop."
   ]
  },
  {
   "cell_type": "code",
   "execution_count": null,
   "metadata": {},
   "outputs": [],
   "source": []
  },
  {
   "cell_type": "markdown",
   "metadata": {},
   "source": [
    "## Comment (for loop details): enumerate"
   ]
  },
  {
   "cell_type": "markdown",
   "metadata": {},
   "source": [
    "* Do you know enumerate? If not:\n",
    "    * Read about enumerate and try some examples.\n",
    "    * This link may be good: https://www.geeksforgeeks.org/enumerate-in-python/\n",
    "    * If you need, Write examples for yourself."
   ]
  },
  {
   "cell_type": "code",
   "execution_count": null,
   "metadata": {},
   "outputs": [],
   "source": []
  }
 ],
 "metadata": {
  "kernelspec": {
   "display_name": "Python 3",
   "language": "python",
   "name": "python3"
  },
  "language_info": {
   "codemirror_mode": {
    "name": "ipython",
    "version": 3
   },
   "file_extension": ".py",
   "mimetype": "text/x-python",
   "name": "python",
   "nbconvert_exporter": "python",
   "pygments_lexer": "ipython3",
   "version": "3.6.9"
  }
 },
 "nbformat": 4,
 "nbformat_minor": 2
}
