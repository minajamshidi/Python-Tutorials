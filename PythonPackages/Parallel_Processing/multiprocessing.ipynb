{
 "cells": [
  {
   "cell_type": "markdown",
   "metadata": {},
   "source": [
    "# Parallelization"
   ]
  },
  {
   "cell_type": "markdown",
   "metadata": {},
   "source": [
    "## 1. using Multiprocessing package"
   ]
  },
  {
   "cell_type": "code",
   "execution_count": 2,
   "metadata": {},
   "outputs": [],
   "source": [
    "import itertools\n",
    "import multiprocessing"
   ]
  },
  {
   "cell_type": "markdown",
   "metadata": {},
   "source": [
    "### 1.1. nested for loops:"
   ]
  },
  {
   "cell_type": "markdown",
   "metadata": {},
   "source": [
    "We wanna parallelize the following nested for loop:\n",
    "    \n",
    "    result = []\n",
    "    for a in range(10):\n",
    "        for b in range(10):\n",
    "            for c in range(10):\n",
    "                for d in range(10):\n",
    "                    result += [a * b * c * d]"
   ]
  },
  {
   "cell_type": "code",
   "execution_count": 10,
   "metadata": {},
   "outputs": [],
   "source": [
    "# Generate values for each parameter\n",
    "a = range(10)\n",
    "b = range(10)\n",
    "c = range(10)\n",
    "d = range(10)\n",
    "\n",
    "# Generate a list of tuples where each tuple is a combination of parameters.\n",
    "# The list will contain all possible combinations of parameters.\n",
    "paramlist = list(itertools.product(a,b,c,d))\n",
    "\n",
    "\n",
    "#A function which will process a tuple of parameters\n",
    "def func(params):\n",
    "    a1 = params[0]\n",
    "    b1 = params[1]\n",
    "    c1 = params[2]\n",
    "    d1 = params[3]\n",
    "    return a1*b1*c1*d1\n",
    "\n",
    "#Generate processes equal to the number of cores\n",
    "pool = multiprocessing.Pool()\n",
    "\n",
    "#Distribute the parameter sets evenly across the cores\n",
    "result  = pool.map(func, paramlist)\n",
    "\n",
    "pool.close()\n",
    "pool.join()\n"
   ]
  },
  {
   "cell_type": "markdown",
   "metadata": {},
   "source": [
    "### 1.2. functions with inouts other that the iterable"
   ]
  },
  {
   "cell_type": "markdown",
   "metadata": {},
   "source": [
    "For this, we can use `partial` to define the function on which the pool is mapped:\n",
    "\n",
    "    func = partial(func_initial, input1, input2)\n",
    "    \n",
    "Assume we wanna implement this foor loop:\n",
    "\n",
    "    x1 = 2\n",
    "    res = []\n",
    "    for n in range(10):\n",
    "        res += [x1 * n]\n",
    "\n",
    "P.S. I know that this operation even doe snot need a for loop! ;-)"
   ]
  },
  {
   "cell_type": "code",
   "execution_count": 3,
   "metadata": {},
   "outputs": [],
   "source": [
    "from functools import partial"
   ]
  },
  {
   "cell_type": "code",
   "execution_count": 5,
   "metadata": {},
   "outputs": [
    {
     "name": "stdout",
     "output_type": "stream",
     "text": [
      "[0, 2, 4, 6, 8, 10, 12, 14, 16, 18]\n"
     ]
    }
   ],
   "source": [
    "def func1(x, n):\n",
    "    return x * n\n",
    "\n",
    "x1 = 2\n",
    "func2 = partial(func1, x1)\n",
    "n_range = range(10)\n",
    "\n",
    "pool = multiprocessing.Pool()\n",
    "result  = pool.map(func2, n_range)\n",
    "\n",
    "pool.close()\n",
    "pool.join()\n",
    "\n",
    "print(result)"
   ]
  }
 ],
 "metadata": {
  "kernelspec": {
   "display_name": "Python 3",
   "language": "python",
   "name": "python3"
  },
  "language_info": {
   "codemirror_mode": {
    "name": "ipython",
    "version": 3
   },
   "file_extension": ".py",
   "mimetype": "text/x-python",
   "name": "python",
   "nbconvert_exporter": "python",
   "pygments_lexer": "ipython3",
   "version": "3.6.9"
  }
 },
 "nbformat": 4,
 "nbformat_minor": 2
}
