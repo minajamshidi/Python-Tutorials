{
 "cells": [
  {
   "cell_type": "markdown",
   "metadata": {},
   "source": [
    "# Playing with Numpy\n",
    "\n",
    "In this tutorial, I tried to include questions that help a Python beginner to get started with Numpy. I believe this notebook is mostly like a play ground for a beginner to play with numpy functions and explore this important Python package.\n",
    "\n",
    "I know there are many Numpy notebooks out there, but I would say the advantage of this notebook over other notebooks I saw is that I prepared the questions looking back at the time I was learning Python and Numpy. Therefore, the questions are based on the practical points that I came across during my self-learning of Python - not as a professional Python programmer who wants to teach others. Therefore, the structure of the notebook seems a bit messy and like a self-taught learner's notebook, which I don't find a negative aspect and I kind of intentionally prepared the questions in this direction. Because, I find self-learning the best practice of learning programming. One should get hands dirty and play with functions. This notebook can guide a Python beginner to learn Numpy by self-learning! If you are interested to use this notebook as your play ground, I suggest you not to look at the answers and write your own by googling. Google is the best source of learning programming. Look at this notebook as a source of what to google!\n",
    "\n",
    "The notebook is not very coherent since it was not prepared for a systematic workshop, but I just prepared it for a friend. However, at some point I started to include some explanations, which makes it easier to use the notebook for a beginner. For other occasions, I included some links to useful websites where one can read the concepts.\n",
    "\n",
    "(C) Prepared by Mina Jamshidi (https://github.com/minajamshidi) (2020). Note that Ehsan Khorsandnejad initially arranged this notebook and wrote the codes as answers to the questions. I modified the notebook only slightly later."
   ]
  },
  {
   "cell_type": "markdown",
   "metadata": {},
   "source": [
    "\n",
    "\n",
    "## Part 1\n",
    "\n",
    "### import \n",
    "\n",
    "In order to be able to use different features of Python, it is necessary to install and import the relevant packages. For example, the package `numpy` can be used to work with matrices in Python. Importing a package is quite simple. We use `import` to import the package and also use `as` to give it a name. Each package has its own functions. To use this functions later in the code, it is necessary to use the following format `np.` + `name of the function`.\n",
    "\n",
    "You may simply import the package by `import [PackageName]`, for example `import numpy`. In this case, the package does not have a *nickname* (e.g. `np`) any more. You should call it ny its original name, for example `numpy.[FunctionName]`. We usually do this when the package name is already a short one.\n",
    "There are cases that you want to use a function of a package directly in your code. In such a case, you should import the function directly by writing `from [PackageName] import [FunctionName]`. For example, `from numpy import pi` can be used when you want to use `pi` instead of `np.pi`. This practice is used when you use a function multiple times in your code, or when you do not need all the functions of a package, but only a couple of them. Another example of importing multiple funtions from a package: `from numpy import pi, dot, mean`. We tend to import the whole package; however, a more professional way is to import only the functions that we need - if they are not many. "
   ]
  },
  {
   "cell_type": "code",
   "execution_count": null,
   "metadata": {},
   "outputs": [],
   "source": [
    "import numpy as np"
   ]
  },
  {
   "cell_type": "markdown",
   "metadata": {},
   "source": [
    "### Making arrays with different dimensions\n",
    "\n",
    "To begin with, we try to do the following tasks:\n",
    "- Build numpy arrays with shapes:\n",
    "    * (3,), call it x\n",
    "    * (4, 2), call it y\n",
    "    * two array of size (2, 5), call them z, h\n",
    "    * (2, 1), call it d1\n",
    "    * (1, 5), call it d2"
   ]
  },
  {
   "cell_type": "markdown",
   "metadata": {},
   "source": [
    "The *type* of a numpy array is `ndarray`. It is good practice to check the type of the objects that you face. In long and complicated codes, you may mix lists and ndarrays. "
   ]
  },
  {
   "cell_type": "code",
   "execution_count": null,
   "metadata": {},
   "outputs": [],
   "source": [
    "x1 = np.array([1, 2, 3])\n",
    "print(x1)\n",
    "print(type(x1))"
   ]
  },
  {
   "cell_type": "markdown",
   "metadata": {},
   "source": [
    "we can use the function `len(x.shape)` or `x.ndim` to get the number of dimensions of `x`."
   ]
  },
  {
   "cell_type": "code",
   "execution_count": null,
   "metadata": {
    "scrolled": false
   },
   "outputs": [],
   "source": [
    "print(x1.shape)\n",
    "print(len(x1.shape))\n",
    "print(x1.ndim)\n",
    "assert(len(x1.shape) == x1.ndim) # assert throws an error if its input is false"
   ]
  },
  {
   "cell_type": "markdown",
   "metadata": {},
   "source": [
    "`x1` is an array made by numpy, with only one dimension. Unlike MATLAB, not all arrays in Python come initially with two dimensions. But it is possibe to make arrays with two or more dimensions or reshape an array into one dimension to an array with more dimensions. It is also possible to assign the number of elements of the dimension of a one-dimensional array, which is three for `x1`, to any dimension of a two- or high-demensional array. </font> This will be discussed later. Let's continue with the exercises."
   ]
  },
  {
   "cell_type": "code",
   "execution_count": null,
   "metadata": {
    "scrolled": true
   },
   "outputs": [],
   "source": [
    "x2 = np.array([[1, 2], [3, 4], [5, 6], [7, 8]])\n",
    "print(x2)\n",
    "print(x2.shape)\n",
    "print(len(x2.shape))\n",
    "print(x2.ndim)"
   ]
  },
  {
   "cell_type": "markdown",
   "metadata": {},
   "source": [
    "`x2` is an array with two dimensions. In fact, it has 4 rows and 2 columns, which makes it an `m*n` matrix. `x3`, `x4`, and `x5` have also the same characteristics but with different rows and columns:"
   ]
  },
  {
   "cell_type": "code",
   "execution_count": null,
   "metadata": {},
   "outputs": [],
   "source": [
    "x3 = np.array([[1, 2, 3, 4, 5], [6, 7, 8, 9, 10]])\n",
    "print(x3)\n",
    "print(x3.shape)\n",
    "print(len(x3.shape))\n",
    "print(x3.ndim)"
   ]
  },
  {
   "cell_type": "code",
   "execution_count": null,
   "metadata": {},
   "outputs": [],
   "source": [
    "x4 = np.array([[11, 12, 13, 14, 15], [16, 17, 18, 19, 20]])\n",
    "print(x4)\n",
    "print(x4.shape)\n",
    "print(len(x4.shape))\n",
    "print(x4.ndim)"
   ]
  },
  {
   "cell_type": "code",
   "execution_count": null,
   "metadata": {},
   "outputs": [],
   "source": [
    "x5 = np.array([[1], [2]])\n",
    "print(x5)\n",
    "print(x5.shape)\n",
    "print(len(x5.shape))\n",
    "print(x5.ndim)"
   ]
  },
  {
   "cell_type": "markdown",
   "metadata": {},
   "source": [
    "Let's make a two- or high-dimensional array out of the one-dimensional array `x6`."
   ]
  },
  {
   "cell_type": "code",
   "execution_count": null,
   "metadata": {},
   "outputs": [],
   "source": [
    "x6 = np.array([1, 2, 3, 4, 5])\n",
    "print(x6)\n",
    "print(x6.shape)\n",
    "print(len(x6.shape))\n",
    "print(x6.ndim)"
   ]
  },
  {
   "cell_type": "markdown",
   "metadata": {},
   "source": [
    "**Method 1**:"
   ]
  },
  {
   "cell_type": "code",
   "execution_count": null,
   "metadata": {},
   "outputs": [],
   "source": [
    "x7 = np.array([x6]) # or np.array([[1, 2, 3, 4, 5]])\n",
    "print(x7)\n",
    "print(x7.shape)\n",
    "print(len(x7.shape))\n",
    "print(x7.ndim)"
   ]
  },
  {
   "cell_type": "markdown",
   "metadata": {},
   "source": [
    "**Method 2**:"
   ]
  },
  {
   "cell_type": "code",
   "execution_count": null,
   "metadata": {},
   "outputs": [],
   "source": [
    "x8 = np.array(x6, ndmin=2)\n",
    "print(x8)\n",
    "print(x8.shape)\n",
    "print(len(x8.shape))\n",
    "print(x8.ndim)"
   ]
  },
  {
   "cell_type": "markdown",
   "metadata": {},
   "source": [
    "**Method 3**: by using this method it is possible to choose the dimension, along which we want the array's elements to be assigned to the new high-dimensional array:"
   ]
  },
  {
   "cell_type": "code",
   "execution_count": null,
   "metadata": {},
   "outputs": [],
   "source": [
    "x9 =x6[np.newaxis, :]\n",
    "print(x9)\n",
    "print(x9.shape)\n",
    "print(len(x9.shape))\n",
    "print(x9.ndim)"
   ]
  },
  {
   "cell_type": "markdown",
   "metadata": {},
   "source": [
    "or the other way arround:"
   ]
  },
  {
   "cell_type": "code",
   "execution_count": null,
   "metadata": {},
   "outputs": [],
   "source": [
    "x10 =x6[:, np.newaxis]\n",
    "print(x10)\n",
    "print(x10.shape)\n",
    "print(len(x10.shape))\n",
    "print(x10.ndim)"
   ]
  },
  {
   "cell_type": "markdown",
   "metadata": {},
   "source": [
    "It is also possible to give `x10` a new dimension:"
   ]
  },
  {
   "cell_type": "code",
   "execution_count": null,
   "metadata": {},
   "outputs": [],
   "source": [
    "x11 =x10[:, :, np.newaxis]\n",
    "print(x11)\n",
    "print(x11.shape)\n",
    "print(len(x11.shape))\n",
    "print(x11.ndim)"
   ]
  },
  {
   "cell_type": "markdown",
   "metadata": {},
   "source": [
    "Let's do the same thing with `x3` in a slightly different way:"
   ]
  },
  {
   "cell_type": "code",
   "execution_count": null,
   "metadata": {},
   "outputs": [],
   "source": [
    "x12 = x3[:, np.newaxis, :]\n",
    "print(x12)\n",
    "print(x12.shape)\n",
    "print(len(x12.shape))\n",
    "print(x12.ndim)"
   ]
  },
  {
   "cell_type": "markdown",
   "metadata": {},
   "source": [
    "**Method 4:**"
   ]
  },
  {
   "cell_type": "code",
   "execution_count": null,
   "metadata": {},
   "outputs": [],
   "source": [
    "x13 = x6.reshape(5, 1)\n",
    "print(x13)\n",
    "print(x13.shape)\n",
    "print(len(x13.shape))\n",
    "print(x13.ndim)"
   ]
  },
  {
   "cell_type": "markdown",
   "metadata": {},
   "source": [
    "or"
   ]
  },
  {
   "cell_type": "code",
   "execution_count": null,
   "metadata": {},
   "outputs": [],
   "source": [
    "x14 = x6.reshape(1, 5)\n",
    "print(x14)\n",
    "print(x14.shape)\n",
    "print(len(x14.shape))\n",
    "print(x14.ndim)"
   ]
  },
  {
   "cell_type": "markdown",
   "metadata": {},
   "source": [
    "The function `type`can be used to determine the type of objects in python. There are many different types such as integers, complex numbers and so on."
   ]
  },
  {
   "cell_type": "code",
   "execution_count": null,
   "metadata": {
    "scrolled": true
   },
   "outputs": [],
   "source": [
    "print(type(1))\n",
    "print(type(1.2))\n",
    "print(type(1+2j))\n",
    "print(type('Hi'))\n",
    "print(type(True))\n",
    "print(type([1, 2, 3]))\n",
    "print(type(np.array([1, 2, 3])))\n",
    "print(type(np.array([1, 2, 3]).shape))\n",
    "print(type(np.array([1, 2, 3]).ndim))\n",
    "print(type((1, 'A', 1+2j)))\n",
    "print(type({'A':1, 'B':2}))\n",
    "print(type(print))"
   ]
  },
  {
   "cell_type": "markdown",
   "metadata": {},
   "source": [
    "### Indexing\n",
    "\n",
    "Each member of an array has its own index in python. Indexing can be from left to right starting from 0 or from right to left from -1:\n",
    "\n",
    "`x = [1, 2, 3, 4, 5]`\\\n",
    "`idx  0  1  2  3  4`\\\n",
    "`idx -5 -4 -3 -2 -1`\n",
    "\n",
    "It is important to note that index -4 is exactly the same as index 1 for Python in this example. Besides, if we want to extract a part of a matrix, we don't have to give any steps if we choose the order of the indexes from left to right, unless we want a step bigger than one. But if our indexes are from right to left, we must give the step -1 or a smaller negative integer.\n",
    "It is also worth mentioning that Python will continue to one index before the given index. FOr example `0:3` includes the indices 0, 1, 2. \n",
    "\n",
    "Now more exercises. Let's take the following array as our example:"
   ]
  },
  {
   "cell_type": "code",
   "execution_count": null,
   "metadata": {},
   "outputs": [],
   "source": [
    "z = np.array([[1, 2, 3, 4, 5], [6, 7, 8, 9, 10]])"
   ]
  },
  {
   "cell_type": "markdown",
   "metadata": {},
   "source": [
    "- extract the 3rd column of z as two arrays of size (2,) and (2, 1)."
   ]
  },
  {
   "cell_type": "code",
   "execution_count": null,
   "metadata": {},
   "outputs": [],
   "source": [
    "z1 = z[:, 2]\n",
    "print(z1)\n",
    "print(z1.shape)\n",
    "print(z1.ndim)"
   ]
  },
  {
   "cell_type": "markdown",
   "metadata": {},
   "source": [
    "This is how, in practice, we may extract (or determine) a column of a matrix as a two-dimensional array. This is particularly important when you are assigning another two dimensional array to a column of a matrix. We will see this later when we deal with broadcasting in Python. </font>"
   ]
  },
  {
   "cell_type": "code",
   "execution_count": null,
   "metadata": {},
   "outputs": [],
   "source": [
    "z2 = z[:, 2:3]\n",
    "print(z2)\n",
    "print(z2.shape)\n",
    "print(z2.ndim)"
   ]
  },
  {
   "cell_type": "markdown",
   "metadata": {},
   "source": [
    "or:"
   ]
  },
  {
   "cell_type": "code",
   "execution_count": null,
   "metadata": {
    "scrolled": true
   },
   "outputs": [],
   "source": [
    "z3 = z[:, 2][:, np.newaxis]\n",
    "print(z3)\n",
    "print(z3.shape)\n",
    "print(z3.ndim)"
   ]
  },
  {
   "cell_type": "markdown",
   "metadata": {},
   "source": [
    "As previously mentioned, `z2` itself can receive a new dimension:"
   ]
  },
  {
   "cell_type": "code",
   "execution_count": null,
   "metadata": {},
   "outputs": [],
   "source": [
    "z4 = z2[:, np.newaxis]\n",
    "print(z2.shape)"
   ]
  },
  {
   "cell_type": "markdown",
   "metadata": {},
   "source": [
    "- extract the last and the *one-before-the-last* columns of `z`."
   ]
  },
  {
   "cell_type": "code",
   "execution_count": null,
   "metadata": {},
   "outputs": [],
   "source": [
    "z5 = z[:, -1] # -1:0 doesn't work because they are the same cell!\n",
    "print(z5)\n",
    "print(z5.shape)\n",
    "print(z5.ndim)"
   ]
  },
  {
   "cell_type": "markdown",
   "metadata": {},
   "source": [
    "`z[:, -1:0]` does not work because you are telling python to pick the last column to the first column without telling it to have the negative step. If you want the last column as a two-dimensional array:"
   ]
  },
  {
   "cell_type": "code",
   "execution_count": null,
   "metadata": {},
   "outputs": [],
   "source": [
    "z52 = z[:, 4:5]\n",
    "z53 = z[:, -1:-2:-1]\n",
    "print(z52)\n",
    "print(z52.shape)\n",
    "print(z53.shape)\n",
    "assert(np.sum(z52==z53))"
   ]
  },
  {
   "cell_type": "code",
   "execution_count": null,
   "metadata": {},
   "outputs": [],
   "source": [
    "z6 = z[:, -2:-1]\n",
    "print(z6)\n",
    "print(z6.shape)\n",
    "print(z6.ndim)"
   ]
  },
  {
   "cell_type": "markdown",
   "metadata": {},
   "source": [
    "or to change the rows and columns:"
   ]
  },
  {
   "cell_type": "code",
   "execution_count": null,
   "metadata": {},
   "outputs": [],
   "source": [
    "z7 = z[:, -2][np.newaxis, :]\n",
    "print(z7)\n",
    "print(z7.shape)\n",
    "print(z7.ndim)"
   ]
  },
  {
   "cell_type": "markdown",
   "metadata": {},
   "source": [
    "- extract the columns 2 to  *one-before-the-last* from `z`."
   ]
  },
  {
   "cell_type": "code",
   "execution_count": null,
   "metadata": {},
   "outputs": [],
   "source": [
    "z8 = z[:, 1:-1] # or z[:, 1:4]\n",
    "print(z8)\n",
    "print(z8.shape)\n",
    "print(z8.ndim)"
   ]
  },
  {
   "cell_type": "markdown",
   "metadata": {},
   "source": [
    "- extract columns 2 (index) *onwards* from `z`."
   ]
  },
  {
   "cell_type": "code",
   "execution_count": null,
   "metadata": {},
   "outputs": [],
   "source": [
    "z9 = z[:, 2:]\n",
    "print(z9)\n",
    "print(z9.shape)\n",
    "print(z9.ndim)"
   ]
  },
  {
   "cell_type": "markdown",
   "metadata": {},
   "source": [
    "- extract all column of `z` up to the one-before-the-last column."
   ]
  },
  {
   "cell_type": "code",
   "execution_count": null,
   "metadata": {},
   "outputs": [],
   "source": [
    "z10 = z[:, :-1]\n",
    "print(z10)\n",
    "print(z10.shape)\n",
    "print(z10.ndim)"
   ]
  },
  {
   "cell_type": "markdown",
   "metadata": {},
   "source": [
    "Positive and negative indexing:"
   ]
  },
  {
   "cell_type": "code",
   "execution_count": null,
   "metadata": {},
   "outputs": [],
   "source": [
    "z11 = z[:, 4:1:-1] # takes columns with index 4, 3, and 2\n",
    "print(z11)\n",
    "print(z11.shape)\n",
    "print(z11.ndim)"
   ]
  },
  {
   "cell_type": "code",
   "execution_count": null,
   "metadata": {},
   "outputs": [],
   "source": [
    "z12 = z[:, -4:-2] # takes columns with index -4 = 1 and -3 = 2\n",
    "print(z12)\n",
    "print(z12.shape)\n",
    "print(z12.ndim)"
   ]
  },
  {
   "cell_type": "code",
   "execution_count": null,
   "metadata": {},
   "outputs": [],
   "source": [
    "z13 = z[:, -5:-1:2] # takes columns with index -5 = 0 and -3 = 2\n",
    "print(z13)\n",
    "print(z13.shape)\n",
    "print(z13.ndim)"
   ]
  },
  {
   "cell_type": "code",
   "execution_count": null,
   "metadata": {},
   "outputs": [],
   "source": [
    "z14 = z[:, -1:-5:-1] # or z[:, -1:0:-1]\n",
    "print(z14)\n",
    "print(z14.shape)\n",
    "print(z14.ndim)"
   ]
  },
  {
   "cell_type": "markdown",
   "metadata": {},
   "source": [
    "### More functions from numpy\n",
    "\n",
    "- Reshape x into two arrays of size (1, 3) and (3, 1), call them x1 and x2 respectively.\n",
    "- print the shapes of x, x1, and x2. compute the length of the shapes.\n",
    "\n",
    "Note: \n",
    "* You can get the shape of a numpy array by `.shape`. For example, if `x` is a 2-D numpy array with dimensions $5\\times 10$, `x.shape` returns a tuple equal to `(5, 10)`. You can refer to the first and second dimensions by `x.shape[0]` and `x.shape[1]`.\n",
    "\n",
    "* You can read about tuples in google, for example <a href='https://www.geeksforgeeks.org/tuples-in-python/'>here</a>."
   ]
  },
  {
   "cell_type": "code",
   "execution_count": null,
   "metadata": {},
   "outputs": [],
   "source": [
    "x = np.array([1, 2, 3])\n",
    "\n",
    "x1 = np.reshape(x, (1, 3)) # x is not affected\n",
    "x2 = np.reshape(x, (3, 1)) \n",
    "print(x1.shape, x2.shape)\n",
    "print(len(x1.shape), len(x2.shape))"
   ]
  },
  {
   "cell_type": "markdown",
   "metadata": {},
   "source": [
    "or"
   ]
  },
  {
   "cell_type": "code",
   "execution_count": null,
   "metadata": {},
   "outputs": [],
   "source": [
    "x1 = x.reshape((1, 3)); # x is not affected either\n",
    "x2 = x.reshape((3, 1))\n",
    "print(x1.shape, x2.shape)\n",
    "print(len(x1.shape), len(x2.shape))"
   ]
  },
  {
   "cell_type": "markdown",
   "metadata": {},
   "source": [
    "Consider the following array:\n"
   ]
  },
  {
   "cell_type": "code",
   "execution_count": null,
   "metadata": {},
   "outputs": [],
   "source": [
    "y = np.array([[1, 2], [3, 4], [5, 6], [7, 8]])\n",
    "print(y)"
   ]
  },
  {
   "cell_type": "markdown",
   "metadata": {},
   "source": [
    "- transpose `y`"
   ]
  },
  {
   "cell_type": "code",
   "execution_count": null,
   "metadata": {},
   "outputs": [],
   "source": [
    "y1 = y.T # or y1 = np.transpose(y, axes=None)\n",
    "print(y1)"
   ]
  },
  {
   "cell_type": "markdown",
   "metadata": {},
   "source": [
    "- reshape `y` into an array of size (2, 4). (--> order parameter)"
   ]
  },
  {
   "cell_type": "code",
   "execution_count": null,
   "metadata": {},
   "outputs": [],
   "source": [
    "y2 = y.reshape((2, 4), order='C')\n",
    "y3 = y.reshape((2, 4), order='F')\n",
    "print(y2)\n",
    "print(y3)"
   ]
  },
  {
   "cell_type": "markdown",
   "metadata": {},
   "source": [
    "- flatten `y`"
   ]
  },
  {
   "cell_type": "code",
   "execution_count": null,
   "metadata": {},
   "outputs": [],
   "source": [
    "y4 = np.ravel(y) # or np.ravel(y, order='C')\n",
    "# or y.ravel()\n",
    "print(y4)"
   ]
  },
  {
   "cell_type": "markdown",
   "metadata": {},
   "source": [
    "`ravel` returns only reference/view of original array just when `order='C'`, which\n",
    "means that the original vector also changes if the ravelled array is changed \n",
    "later but `flatten` returns a copy of the original array."
   ]
  },
  {
   "cell_type": "code",
   "execution_count": null,
   "metadata": {},
   "outputs": [],
   "source": [
    "y5 = np.ravel(y, order='F')\n",
    "print(y5)"
   ]
  },
  {
   "cell_type": "code",
   "execution_count": null,
   "metadata": {},
   "outputs": [],
   "source": [
    "y6 = y.flatten() # we don't have np.flatten(y)\n",
    "print(y6)"
   ]
  },
  {
   "cell_type": "markdown",
   "metadata": {},
   "source": [
    "- compute the average/variance of the elements of y along its row/columns\n",
    "- compute the average/variance of all the elements in y\n",
    "\n",
    "\n",
    "\n",
    "**Note**:\n",
    "- axis=0 represents the vertical axis (rows)\n",
    "- axis=1 represents the horizontal axis (columns)\n",
    "- axis=2 represents the third dimension (depth)\n",
    "\n",
    "y1 = np.mean(y, axis=0) # we use 'average' to calculate the weighted mean!\n",
    "y2 = np.mean(y, axis=1)\n",
    "y3 = np.mean(y)\n",
    "print(y1, y2, y3)"
   ]
  },
  {
   "cell_type": "code",
   "execution_count": null,
   "metadata": {},
   "outputs": [],
   "source": [
    "y7 = np.mean(y, axis=0) # we use 'average' to calculate the weighted mean!\n",
    "print(y7)"
   ]
  },
  {
   "cell_type": "code",
   "execution_count": null,
   "metadata": {},
   "outputs": [],
   "source": [
    "y8 = np.mean(y, axis=1)\n",
    "print(y8)"
   ]
  },
  {
   "cell_type": "code",
   "execution_count": null,
   "metadata": {},
   "outputs": [],
   "source": [
    "y9 = np.mean(y) \n",
    "print(y9)"
   ]
  },
  {
   "cell_type": "markdown",
   "metadata": {},
   "source": [
    "Consider the following arrays:"
   ]
  },
  {
   "cell_type": "code",
   "execution_count": null,
   "metadata": {},
   "outputs": [],
   "source": [
    "y = np.array([[1, 2], [3, 4], [5, 6], [7, 8], [9, 10]])\n",
    "z = np.array([[1, 2, 3, 4, 5], [6, 7, 8, 9, 10]])\n",
    "h = np.array([[11, 12, 13, 14, 15], [16, 17, 18, 19, 20]])"
   ]
  },
  {
   "cell_type": "markdown",
   "metadata": {},
   "source": [
    "- multiply all elements of y by 10"
   ]
  },
  {
   "cell_type": "code",
   "execution_count": null,
   "metadata": {},
   "outputs": [],
   "source": [
    "y10 = y * 10\n",
    "print(y10)"
   ]
  },
  {
   "cell_type": "markdown",
   "metadata": {},
   "source": [
    "- multiply (matrix multiplication) y and z"
   ]
  },
  {
   "cell_type": "code",
   "execution_count": null,
   "metadata": {},
   "outputs": [],
   "source": [
    "yz = y.dot(z)\n",
    "print(yz)"
   ]
  },
  {
   "cell_type": "markdown",
   "metadata": {},
   "source": [
    "- multiply (element-wise) z and h"
   ]
  },
  {
   "cell_type": "code",
   "execution_count": null,
   "metadata": {},
   "outputs": [],
   "source": [
    "zh = z*h # zh = np.multiply(z, h)\n",
    "print(zh)"
   ]
  },
  {
   "cell_type": "markdown",
   "metadata": {},
   "source": [
    "`*` or `/` are element-wise operators in Python."
   ]
  },
  {
   "cell_type": "markdown",
   "metadata": {},
   "source": [
    "Consider the following arrays as well:"
   ]
  },
  {
   "cell_type": "code",
   "execution_count": null,
   "metadata": {},
   "outputs": [],
   "source": [
    "d1 = np.array([[1], [2]])\n",
    "d2 = np.array([1, 2, 3, 4, 5], ndmin=2) # or [[1, 2, 3, 4, 5]]\n",
    "print(d1)\n",
    "print(d2)"
   ]
  },
  {
   "cell_type": "markdown",
   "metadata": {},
   "source": [
    "- multiply (element-wise) each column of z by d1 \n",
    "- multiply (element-wise) each row of z by d2\n",
    "\n",
    "Note:\n",
    "* Broadcasting is an important concept in Numpy. While it is a very helpful feature, it can be a source of confusion and mistake for those who have experience with some other programming languages like MATLAB. Among many websites, you may read the Numpy documentation about broadcasting <a href='https://numpy.org/devdocs/user/theory.broadcasting.html'>here</a> and <a href='https://numpy.org/doc/stable/user/basics.broadcasting.html'>here<a>."
   ]
  },
  {
   "cell_type": "code",
   "execution_count": null,
   "metadata": {},
   "outputs": [],
   "source": [
    "a hrefprint('z =', z)\n",
    "zdc = z*d1\n",
    "print('zdc =', zdc)\n",
    "zdr = z*d2\n",
    "print('zdr =', zdr)"
   ]
  },
  {
   "cell_type": "markdown",
   "metadata": {},
   "source": [
    "### Some exercises to review"
   ]
  },
  {
   "cell_type": "code",
   "execution_count": null,
   "metadata": {},
   "outputs": [],
   "source": [
    "x = np.array([[1, 2, 3, 4, 5], \n",
    "              [6, 7, 8, 9, 10], \n",
    "              [10, 9, 8, 7, 6], \n",
    "              [5, 4, 3, 2, 1]])"
   ]
  },
  {
   "cell_type": "code",
   "execution_count": null,
   "metadata": {},
   "outputs": [],
   "source": [
    "x1 = x[1, :]\n",
    "print(x1)\n",
    "print(x1.shape)"
   ]
  },
  {
   "cell_type": "code",
   "execution_count": null,
   "metadata": {},
   "outputs": [],
   "source": [
    "x2 = x[:, 1]\n",
    "print(x2)\n",
    "print(x2.shape)"
   ]
  },
  {
   "cell_type": "code",
   "execution_count": null,
   "metadata": {},
   "outputs": [],
   "source": [
    "x3 = x[1, :][np.newaxis, :]\n",
    "print(x3)\n",
    "print(x3.shape)"
   ]
  },
  {
   "cell_type": "code",
   "execution_count": null,
   "metadata": {},
   "outputs": [],
   "source": [
    "# this works in Spyder: x4 = [x[1, :]]"
   ]
  },
  {
   "cell_type": "code",
   "execution_count": null,
   "metadata": {},
   "outputs": [],
   "source": [
    "x5 = np.array(x[1, :], ndmin=2)\n",
    "print(x5)\n",
    "print(x5.shape)"
   ]
  },
  {
   "cell_type": "code",
   "execution_count": null,
   "metadata": {},
   "outputs": [],
   "source": [
    "x6 = x[1:2, :]\n",
    "print(x6)\n",
    "print(x6.shape)"
   ]
  },
  {
   "cell_type": "code",
   "execution_count": null,
   "metadata": {},
   "outputs": [],
   "source": [
    "x7 = x[1:4, :]\n",
    "print(x7)\n",
    "print(x7.shape)"
   ]
  },
  {
   "cell_type": "code",
   "execution_count": null,
   "metadata": {},
   "outputs": [],
   "source": [
    "x8 = x[1:-1, :]\n",
    "print(x8)\n",
    "print(x8.shape)"
   ]
  },
  {
   "cell_type": "code",
   "execution_count": null,
   "metadata": {},
   "outputs": [],
   "source": [
    "x9 = x[:, 0::2] # x[:, ::2]\n",
    "print(x9)\n",
    "print(x9.shape)"
   ]
  },
  {
   "cell_type": "code",
   "execution_count": null,
   "metadata": {},
   "outputs": [],
   "source": [
    "x10 = x[:, ::-2]\n",
    "print(x10)\n",
    "print(x10.shape)"
   ]
  },
  {
   "cell_type": "markdown",
   "metadata": {},
   "source": [
    "## Part 2"
   ]
  },
  {
   "cell_type": "markdown",
   "metadata": {},
   "source": [
    "- build an ndarray equivalent to the MATLAB array 1:0.1:4"
   ]
  },
  {
   "cell_type": "code",
   "execution_count": null,
   "metadata": {},
   "outputs": [],
   "source": [
    "a = np.arange(1, 4.1, 0.1)\n",
    "print(a)"
   ]
  },
  {
   "cell_type": "markdown",
   "metadata": {},
   "source": [
    "\n",
    "* **Important tip**: Write your code in such a way that it is with minimum effort generalizable, that it is parameter-based not hard-coded. Please ask me if it is not clear what I mean. This point is important.\n"
   ]
  },
  {
   "cell_type": "markdown",
   "metadata": {},
   "source": [
    "* Produce the array [1, 2, 4, 8, ..., 2^100]"
   ]
  },
  {
   "cell_type": "code",
   "execution_count": 3,
   "metadata": {},
   "outputs": [
    {
     "name": "stdout",
     "output_type": "stream",
     "text": [
      "[                   1                    2                    4\n",
      "                    8                   16                   32\n",
      "                   64                  128                  256\n",
      "                  512                 1024                 2048\n",
      "                 4096                 8192                16384\n",
      "                32768                65536               131072\n",
      "               262144               524288              1048576\n",
      "              2097152              4194304              8388608\n",
      "             16777216             33554432             67108864\n",
      "            134217728            268435456            536870912\n",
      "           1073741824           2147483648           4294967296\n",
      "           8589934592          17179869184          34359738368\n",
      "          68719476736         137438953472         274877906944\n",
      "         549755813888        1099511627776        2199023255552\n",
      "        4398046511104        8796093022208       17592186044416\n",
      "       35184372088832       70368744177664      140737488355328\n",
      "      281474976710656      562949953421312     1125899906842624\n",
      "     2251799813685248     4503599627370496     9007199254740992\n",
      "    18014398509481984    36028797018963968    72057594037927936\n",
      "   144115188075855872   288230376151711744   576460752303423488\n",
      "  1152921504606846976  2305843009213693952  4611686018427387904\n",
      " -9223372036854775808                    0                    0\n",
      "                    0                    0                    0\n",
      "                    0                    0                    0\n",
      "                    0                    0                    0\n",
      "                    0                    0                    0\n",
      "                    0                    0                    0\n",
      "                    0                    0                    0\n",
      "                    0                    0                    0\n",
      "                    0                    0                    0\n",
      "                    0                    0                    0\n",
      "                    0                    0                    0\n",
      "                    0                    0                    0\n",
      "                    0                    0]\n"
     ]
    }
   ],
   "source": [
    "b = 2**np.arange(0, 101)\n",
    "print(b)"
   ]
  },
  {
   "cell_type": "markdown",
   "metadata": {},
   "source": [
    "* A **good practice** [1] of coding (regarding the code cell below) : Writing codes with parameters defined at the beginning of the scripts instead of using values directly in the code.\n",
    "\n",
    "    \n",
    "Assume the following question: produce an array of $[1, 2, 4, 8, ..., 2^n]$ for any arbitrary n. Here, we aim to produce an array with a parameter $n$. You may code it like this: \n",
    "    \n",
    "    b = 2**np.arange(0, 101)\n",
    "    \n",
    "and you think that each time you can change the value 101 to the desired value of n. Another way of coding is to write it like the following:\n",
    "    \n",
    "    \n",
    "    n = 100\n",
    "    b = 2**np.arange(0, n+1)\n",
    "    \n",
    "This way you do not have to go throughout the lines of codes to change the value of $n$. This good practice becomes important when a vale is repeated through lines of codes and it could get arbitrary values each time. Another reason for using this practice is that your code is more readable because parameters can have descriptions and then when they appear in the code it is clear what they mean, while values do not have this descripttion. Another example is when you have a tolerance in your code, let's say you do something until an estimated error is smaller than some tolerance value, say $0.001$. You may write code like this:\n",
    "    \n",
    "    while error > 0.001:\n",
    "        # Do something and calculate error\n",
    "    \n",
    "or like the following:\n",
    "    \n",
    "    tol = 0.001 # tolerance\n",
    "    while error > tol:\n",
    "        # Do something and calculate error\n",
    "    \n",
    "The latter is more clear for a reader because `tol` has a description and he/she undestands that this `tol` value is kind of arbitrary. \n",
    "\n",
    "P.S.\n",
    "[1] You **don't** have to use practices, but good practices are strongly suggested and they are only based on what is common in the communities. Most of them are not written anywhere."
   ]
  },
  {
   "cell_type": "markdown",
   "metadata": {},
   "source": [
    "**Why we observe zeros instead of very large numbers in the code cell above?!**\n",
    "    \n",
    "<font color=black> \n",
    "* The phenomenon we observe here is called **integer overflow**. To understand what is overflow, first we should review what is meant by *the size of the integer type*. (You may take a pen and paper for following) \n",
    "## Integer Overflow     \n",
    "    \n",
    "    \n",
    "* Values are saved with `0` and `1` in the memory (binary system). So, each integer is represented by some bits in the memory. For example 2 is `10`$=0 + 1\\times 2$ or 3 is `11`$=1 + 1\\times 2$ or 10 is `1010`$=0 + 1\\times 2 + 0\\times 2^2 + 1\\times 2^3$. So, if you have for example 3 bits, the maximum value you can build is `111`$=1 + 1\\times 2 + 1\\times 2^2 = 7 = 2^3 - 1$. You can conclude that with $n$ bits, the maximum *unsigned* value that we can have is $2^n - 1$. Please pay attention to *unsigned* word: if the integer is *signed* (i.e. it can be negative or positive), then the leftmost bit is allocated to the sign and then we have only $n-1$ bits for the value. Therefore, the largest value is $2^{n-1}-1$ and the smallest value is $-2^{n-1}$. (why minimum negative value is $-2^{n-1}$? You can google sth like \"negative numbers in binary\".)   \n",
    "    \n",
    "    \n",
    "* Let's take a look at some <a href=\"https://docs.scipy.org/doc/numpy/user/basics.types.html\">integer types in Numpy</a>:\n",
    "    * int8: it means you have 8 bits (signed): so, the range is between $-128=-2^7$ and $127=2^7-1$. \n",
    "    * int64: with 64 bits and being signed: the range is between $-9223372036854775808=-2^{63}$ and $9223372036854775807=2^{63}-1$\n",
    "    * uint64:  with 64 bits and being **u**nsigned: the range is between $0$ and $18446744073709551615=2^{64}-1$\n",
    " \n",
    "* Now, let's see what happens if the maximum value is exceeded: let's work with an int8-integer. The maximum value is `01111111`$=127=2^7-1$. If we add one to this value in the binary system it will be `10000000` which is equal to $=-128=-2^7$. At this point we have already exceeded the maximum allowed value which was $127$. This bahaviour is called overflow. If we further add one to this value in the binary system it will be `10000001`=$-127=-2^7 + 1$. This can continue until `11111111`=$-1$  \n",
    "    \n",
    "    \n",
    "* Now look at the code cell above:\n",
    "    \n",
    "        b = 2**np.arange(0, 101)\n",
    "        print(b)\n",
    "    \n",
    " where does the weird behaviour start? It is first at $2^{63}$ where $-9223372036854775808=-2^{-63}$ is printed. Then from $2^{64}$ on we have zeros. This hints us that the size of the integer was 64 bits and signed: the maximum value was $2^{63}-1$. Therefore, when you request python to compute $2^{63}$, it puts `1` at the leftmost bit and `0` at all other bits which is translated to that large negative value (remember that for signed integers the leftmost bit is for sign). Then, since $2^{64}$ is `10...00` with 65 bits, in a 64-bit system, only the 64 right-most bits are taken, which are all zero. Therefore, $2^{64}$ is represented as `0` in a 64-bit binary system. The same for $2^n, n\\geq 64$. Now you can see whey those big negative value and zeros are printed in the code cell above\n",
    "    \n",
    "With this hint let's look at the *data type* of b (Note that you are getting to know data type here):\n",
    "    \n",
    "        \n"
   ]
  },
  {
   "cell_type": "code",
   "execution_count": 4,
   "metadata": {},
   "outputs": [
    {
     "name": "stdout",
     "output_type": "stream",
     "text": [
      "int64\n"
     ]
    }
   ],
   "source": [
    "print(b.dtype)"
   ]
  },
  {
   "cell_type": "markdown",
   "metadata": {},
   "source": [
    "The data type is `int64`, as we predicted before. In order to overcome his problem, we should specify the data type when we are creating the array:"
   ]
  },
  {
   "cell_type": "code",
   "execution_count": 5,
   "metadata": {},
   "outputs": [
    {
     "name": "stdout",
     "output_type": "stream",
     "text": [
      "[1.00000000e+00 2.00000000e+00 4.00000000e+00 8.00000000e+00\n",
      " 1.60000000e+01 3.20000000e+01 6.40000000e+01 1.28000000e+02\n",
      " 2.56000000e+02 5.12000000e+02 1.02400000e+03 2.04800000e+03\n",
      " 4.09600000e+03 8.19200000e+03 1.63840000e+04 3.27680000e+04\n",
      " 6.55360000e+04 1.31072000e+05 2.62144000e+05 5.24288000e+05\n",
      " 1.04857600e+06 2.09715200e+06 4.19430400e+06 8.38860800e+06\n",
      " 1.67772160e+07 3.35544320e+07 6.71088640e+07 1.34217728e+08\n",
      " 2.68435456e+08 5.36870912e+08 1.07374182e+09 2.14748365e+09\n",
      " 4.29496730e+09 8.58993459e+09 1.71798692e+10 3.43597384e+10\n",
      " 6.87194767e+10 1.37438953e+11 2.74877907e+11 5.49755814e+11\n",
      " 1.09951163e+12 2.19902326e+12 4.39804651e+12 8.79609302e+12\n",
      " 1.75921860e+13 3.51843721e+13 7.03687442e+13 1.40737488e+14\n",
      " 2.81474977e+14 5.62949953e+14 1.12589991e+15 2.25179981e+15\n",
      " 4.50359963e+15 9.00719925e+15 1.80143985e+16 3.60287970e+16\n",
      " 7.20575940e+16 1.44115188e+17 2.88230376e+17 5.76460752e+17\n",
      " 1.15292150e+18 2.30584301e+18 4.61168602e+18 9.22337204e+18\n",
      " 1.84467441e+19 3.68934881e+19 7.37869763e+19 1.47573953e+20\n",
      " 2.95147905e+20 5.90295810e+20 1.18059162e+21 2.36118324e+21\n",
      " 4.72236648e+21 9.44473297e+21 1.88894659e+22 3.77789319e+22\n",
      " 7.55578637e+22 1.51115727e+23 3.02231455e+23 6.04462910e+23\n",
      " 1.20892582e+24 2.41785164e+24 4.83570328e+24 9.67140656e+24\n",
      " 1.93428131e+25 3.86856262e+25 7.73712525e+25 1.54742505e+26\n",
      " 3.09485010e+26 6.18970020e+26 1.23794004e+27 2.47588008e+27\n",
      " 4.95176016e+27 9.90352031e+27 1.98070406e+28 3.96140813e+28\n",
      " 7.92281625e+28 1.58456325e+29 3.16912650e+29 6.33825300e+29\n",
      " 1.26765060e+30]\n"
     ]
    }
   ],
   "source": [
    "b2 = 2**np.arange(0, 101, dtype='float')\n",
    "print(b2)"
   ]
  },
  {
   "cell_type": "markdown",
   "metadata": {},
   "source": [
    "Note: Now you learned the `dtype` of a numpy array as well :-)"
   ]
  },
  {
   "cell_type": "markdown",
   "metadata": {},
   "source": [
    "* produce two random vectors of length 10 drawn from a uniform distribution in [0, 1); call them x1 and x2."
   ]
  },
  {
   "cell_type": "code",
   "execution_count": null,
   "metadata": {},
   "outputs": [],
   "source": [
    "x1 = np.random.rand(10,)\n",
    "x2 = np.random.rand(10,)\n",
    "print(x1)\n",
    "print(x2)"
   ]
  },
  {
   "cell_type": "markdown",
   "metadata": {},
   "source": [
    "* extract elements with indices 0, 2, 7"
   ]
  },
  {
   "cell_type": "code",
   "execution_count": null,
   "metadata": {},
   "outputs": [],
   "source": [
    "List = [0, 2, 7]\n",
    "x3 = np.concatenate((x1[List], x2[List]), axis=0, out=None)\n",
    "print(x3)"
   ]
  },
  {
   "cell_type": "markdown",
   "metadata": {},
   "source": [
    "* extract the elements of x1 which are >=0.5, copy them in y."
   ]
  },
  {
   "cell_type": "code",
   "execution_count": null,
   "metadata": {},
   "outputs": [],
   "source": [
    "y = [] # np.array([])\n",
    "\n",
    "for item in x1:\n",
    "    if item>=0.5:\n",
    "        y = np.append(y, item)\n",
    "        \n",
    "print(y)"
   ]
  },
  {
   "cell_type": "markdown",
   "metadata": {},
   "source": [
    "* extract the indices of the elements in x1 which are >=0.5"
   ]
  },
  {
   "cell_type": "code",
   "execution_count": null,
   "metadata": {},
   "outputs": [],
   "source": [
    "indices_1 = []\n",
    "for index, item in enumerate(x1):\n",
    "    if item>=0.5:\n",
    "        indices_1.append(index)\n",
    "        \n",
    "print(indices_1)\n",
    "\n",
    "# using np. where\n",
    "indices_2 = np.where(x1 >= 0.5)\n",
    "print(indices_2)\n",
    "print(indices_2[0])"
   ]
  },
  {
   "cell_type": "markdown",
   "metadata": {},
   "source": [
    "* How many elements of x1 satisfy the condition >=0.5?"
   ]
  },
  {
   "cell_type": "code",
   "execution_count": null,
   "metadata": {},
   "outputs": [],
   "source": [
    "count_1 = 0\n",
    "for item in x1:\n",
    "    if item>=0.5:\n",
    "        count_1 += 1\n",
    "        \n",
    "print(count_1)\n",
    "\n",
    "# using boolean indexing\n",
    "count_2 = np.sum(x1 > 0.5)\n",
    "print(count_2)"
   ]
  },
  {
   "cell_type": "markdown",
   "metadata": {},
   "source": [
    "* Extract the elements of x2 whose corresponding elements in x1 are >=0.5."
   ]
  },
  {
   "cell_type": "code",
   "execution_count": null,
   "metadata": {},
   "outputs": [],
   "source": [
    "z = []\n",
    "for index, item in enumerate(x1):\n",
    "    if item>=0.5:\n",
    "        z = np.append(z, x2[index])      \n",
    "print(z)\n",
    "\n",
    "# using boolean indexing\n",
    "zz = x2[x1 > 0.5]\n",
    "print(zz)\n",
    "# ------\n",
    "\n",
    "zz = x2[np.where((x1>0.5))]\n",
    "print(zz)"
   ]
  },
  {
   "cell_type": "markdown",
   "metadata": {},
   "source": [
    "## Boolean Indexing\n",
    "\n",
    "* You can read <a href='https://numpy.org/devdocs/reference/arrays.indexing.html'>here</a>.\n",
    "\n",
    "* Note: each code in this text appears in the code-cell below. I refer to them like this: {n}, where the sections in the code-cell are separated like this: {0}, {1}, {2}, etc.\n",
    "    \n",
    "* What is a boolean data type? Such a variable takes only `True` or `False`. That is why it is also called \"logical\". In logic, every statement is whether True or False, the same in programming: Every statement you make is True or Flase. 'not True' is `False`. {0}\n",
    "    \n",
    "* These statements are (to my best current knowledge) a result of a comparsion. \n",
    "    * For example: if you write `x=3` and then you check if x is equal to 4: `x == 4`, this statement is `False` ({1} in code cell below). Of course both of the statements `x <= 3` and `x>2` are `True` statments {1}. You can have an array of booleans: For example `x=np.array([1, 4, 6])`. When you write `x>3`, you are doing an element-wise comparison of the elelements of x to 3 and therefore, the result is an array of booleans (you have actually an array of statements: `np.array([1>3, 4>3, 6>3])`). Therefore, the result is `[False  True  True]` {2}. \n",
    "    * other operators used in comparsons are `is` or `in`:\n",
    "        * for example `x is not None`, this statement checks if `x == None` is `True` {3}.\n",
    "        * if `x=np.array([1, 4, 6])`, `3 in x` checks if 3 is in x (you see it is like talking). {3}\n",
    "\n",
    "* A `True` is equivalent to value `1` and a `False` to `0`:  try `print(type(True))` and `print(type(True + 0))` and `print(int(True))` and `print(not 0)` {4}. Therefore, you can do arithmetic with booleans: `True+True=2`, `True+False=1`. However, to my best of experience, there is only one occasion that arithmetic operation on boolean arrays is common:\n",
    "    * Assume you have an array `x=np.array([0, 1, 2, 3, ..., 50])` and you wanna see how many elements are larger than 40. You may write an `if-for` structure (as you did above). Or you may *find* the elements which are satisfying the condition using `np.where` and then counting how many elements you found {5}. However, the professional way is to do an element-wise comparison and then summing up the elements of the resulting boolean array {6}:\n",
    "    \n",
    "            x = np.arange(51)\n",
    "            n_40 = np.sum(x > 40)\n",
    "    \n",
    "\n",
    "* How can we use booleans for indexing? Let's look at ref [1]: \n",
    "    \n",
    "  \" If obj.ndim == x.ndim, x[obj] returns a 1-dimensional array filled with the elements of x corresponding to the True values of obj. The search order will be row-major, C-style. If obj has True values at entries that are outside of the bounds of x, then an index error will be raised. If obj is smaller than x it is identical to filling it with False.\"\n",
    "\n",
    " Let's first analyse this description:\n",
    " * We index `x` with `obj`. They are from the same dimension. Python (or any other programming language) looks where you have True (or 1) in `obj` and then selects the corresponding elements from `x`.\n",
    "    \n",
    " Let's now look at three examples: \n",
    "    * First {7}:   \n",
    "            x = np.array([0, 1, 2])\n",
    "            print(x([False, True, False]))\n",
    "      the output is `[1]`, the second element. Why? because we said that we only want the second element by indexing it with `True` and all others with `False`.\n",
    "    * Second{8}: \n",
    "            x = np.array([0, 1, 2])\n",
    "            x[x == 1] *= 100 \n",
    "            print(x)\n",
    "    What does it do? First, look at the indexing: `x == 1`, which is `[False, True, False]`. So, it takes only the second element and multiplies it by 100. \n",
    "    * third {9}:\n",
    "            x_temp = np.array([[1, 2, 3], [4, 5, 6]])\n",
    "            col_sum = np.sum(x_temp, axis=0)\n",
    "            print(x_temp[:, col_sum>6]) \n",
    "      Here, `col_sum` sums the elements of each column. Then `col_sum>6` looks which columns have sum of larger than 6, and then when indexing `x_temp[:, col_sum>6]`, we are saying to it to select the columns which have sum of larger than 6: this prints the two rightmost columns because their sum is larger than 6. You see you can index the columns and rows independently.\n",
    "    \n",
    "    "
   ]
  },
  {
   "cell_type": "code",
   "execution_count": null,
   "metadata": {},
   "outputs": [],
   "source": [
    "import numpy as np \n",
    "# {0} -------------\n",
    "print('{0}: ', not True)\n",
    "\n",
    "# {1} -------------\n",
    "x_temp1 = 3\n",
    "print('{1-1}: ',x_temp1 == 4)\n",
    "print('{1-2}: ',x_temp1 <= 3)\n",
    "print('{1-3}: ',x_temp1 > 2)\n",
    "\n",
    "# {2} -------------\n",
    "x_temp2 = np.array([1, 4, 6])\n",
    "print('{2}: ', x_temp2 > 3)\n",
    "\n",
    "# {3} -------------\n",
    "x_temp3 = None\n",
    "print('{3-1}: ', x_temp3 is not None)\n",
    "print('{3-2}: ', x_temp3 == None)\n",
    "print('{3-3}: ', 3 in x_temp2)\n",
    "\n",
    "# {4} -------------\n",
    "print('{4-1}: ', type(True))\n",
    "print('{4-2}: ', type(True+0))\n",
    "print('{4-3}: ', type(True+0))\n",
    "print('{4-4}: ', True+0)\n",
    "print('{4-5}: ', int(True))\n",
    "print('{4-6}: ', not 0) # will be True\n",
    "\n",
    "# {5} -----------------\n",
    "x_temp5 = np.arange(51)\n",
    "ind_temp5 = np.where(x_temp5 > 40)\n",
    "print('{5}:', len(ind_temp5[0]))\n",
    "\n",
    "# {6} -----------------\n",
    "x_temp = np.arange(51)\n",
    "n_40 = np.sum(x_temp > 40)\n",
    "print('{6}: ', n_40)\n",
    "\n",
    "# {7}-----------------\n",
    "x_temp = np.array([0, 1, 2])\n",
    "print('{7}: ',x_temp[[False, True, False]])\n",
    "\n",
    "# {8} -----------------\n",
    "x_temp = np.array([0, 1, 2])\n",
    "x_temp[x_temp == 1] *= 100 \n",
    "print('{8}: ',x_temp)\n",
    "\n",
    "# {9}-----------------\n",
    "x_temp = np.array([[1, 2, 3], [4, 5, 6]])\n",
    "col_sum = np.sum(x_temp, axis=0)\n",
    "print('{9}: ',x_temp[:, col_sum>6]) "
   ]
  },
  {
   "cell_type": "markdown",
   "metadata": {},
   "source": [
    "If you have thought of using a while loop for counting:\n",
    "\n",
    "When should we think of a while-loop?\n",
    "    \n",
    "* a while loop is used when you wanna do sth until a criterion is reached. In the example above that you used for loop (for counting, or selecting elements), you are looping over *all* the elements of a matrix to find those satisfying a condition. So, because it is *all*, it is a `for`. But, if you wanted to search until you find the first satisfying element, it would be a while. "
   ]
  },
  {
   "cell_type": "markdown",
   "metadata": {},
   "source": [
    "* delete elements with indices 0, 2, 7.\n",
    "\n",
    "* Hint: check <a href='https://numpy.org/doc/stable/reference/generated/numpy.delete.html'>np.delete</a>."
   ]
  },
  {
   "cell_type": "code",
   "execution_count": null,
   "metadata": {},
   "outputs": [],
   "source": [
    "print(x1)\n",
    "np.delete(x1, [0, 2, 7]) # or np.delete(x1, (0, 2, 7))"
   ]
  },
  {
   "cell_type": "markdown",
   "metadata": {},
   "source": [
    "* Explore these operations on arrays with arbitrary size of (n, m)"
   ]
  },
  {
   "cell_type": "code",
   "execution_count": null,
   "metadata": {},
   "outputs": [],
   "source": [
    "# produce two random vectors\n",
    "m1 = np.random.rand(3, 4)\n",
    "m2 = np.random.rand(3, 4)\n",
    "print(m1)\n",
    "print(m2)\n",
    "\n",
    "# extract soe elements from m1\n",
    "m3 = np.array([m1[0, 1], m1[2, 3]])\n",
    "print(m3)\n",
    "\n",
    "# how many elements of m1 satisfy the condition >=0.5? \n",
    "Count = 0\n",
    "for item in np.nditer(m1):\n",
    "    if item>=0.5:\n",
    "        Count += 1\n",
    "        \n",
    "print(Count)\n",
    "\n",
    "# Using Boolean indexing ...\n",
    "count_2 = np.sum(m1 >= 0.5)\n",
    "\n",
    "Count2 = len(m1[np.where((m1>0.5))])\n",
    "print(Count2)\n",
    "\n",
    "# extract the elements of m2 whose corresponding elements in m1 are >=0.5.\n",
    "m4 = []\n",
    "for index, item in np.ndenumerate(m1):\n",
    "    if item>=0.5:\n",
    "        m4 = np.append(m4, m2[index])\n",
    "        \n",
    "print(m4)\n",
    "\n",
    "# Using np.where\n",
    "ind = np.where(m1 >= 0.5)\n",
    "m44 = m2[ind]\n",
    "print(m44)\n",
    "\n",
    "# Using Boolean indexing ...\n",
    "m44_bool = m2[m1 >= 0.5]\n",
    "\n",
    "## delete element with index [0, 0] (--> check documentations of np.delete)\n",
    "#def deleteFrom2D(arr2D, row, column):\n",
    "#    'Delete element from 2D numpy array by row and column position'\n",
    "#    modArr = np.delete(arr2D, row * arr2D.shape[1] + column)\n",
    "#    return modArr\n",
    "#\n",
    "#deleteFrom2D(m1, 0, 0)\n",
    "np.delete(m1, [0])"
   ]
  },
  {
   "cell_type": "markdown",
   "metadata": {},
   "source": [
    "* Regarding np.delete on 2D arrays: \n",
    "    * Pay attention to axis parameter \n",
    "    * Delete specific columns/rows. Answer to these questions: What happens if axis=None? How are the elements indexed? (Does a hidden order parameter exist?) Did you have a premise regarding *a hidden* order parameter while writing your `deleteFrom2D` function?"
   ]
  },
  {
   "cell_type": "markdown",
   "metadata": {},
   "source": [
    "## Sorting\n",
    "\n",
    "* produce a random vector of size (4, 5), call it z1."
   ]
  },
  {
   "cell_type": "code",
   "execution_count": null,
   "metadata": {},
   "outputs": [],
   "source": [
    "z1 = np.random.rand(4, 5)\n",
    "print(z1)"
   ]
  },
  {
   "cell_type": "markdown",
   "metadata": {},
   "source": [
    "* sort elements of x1 in ascending/descending order."
   ]
  },
  {
   "cell_type": "code",
   "execution_count": null,
   "metadata": {},
   "outputs": [],
   "source": [
    "x1_ascending = np.sort(x1)\n",
    "print(x1_ascending)\n",
    "x1_descending = -np.sort(-x1)\n",
    "print(x1_descending)\n",
    "x2_descending = np.flip(x1, axis=None)\n",
    "print(x2_descending)"
   ]
  },
  {
   "cell_type": "markdown",
   "metadata": {},
   "source": [
    "* sort elements of z1 (the flattened array, along the two axis) in ascending/descending order. pay attention to axis argument of np.sort."
   ]
  },
  {
   "cell_type": "code",
   "execution_count": null,
   "metadata": {},
   "outputs": [],
   "source": [
    "z1_ascending= np.sort(z1, axis=None)\n",
    "z1_descending= -np.sort(-z1, axis=None)\n",
    "print(z1)\n",
    "print(z1_ascending)\n",
    "print(z1_descending)\n",
    "\n",
    "z2_ascending= np.sort(z1, axis=-1)\n",
    "z2_descending= -np.sort(-z1, axis=-1)\n",
    "print(z1)\n",
    "print(z2_ascending)\n",
    "print(z2_descending)\n",
    "\n",
    "\n",
    "z3_ascending= np.sort(z1, axis=0)\n",
    "z3_descending= -np.sort(-z1, axis=0)\n",
    "print(z1)\n",
    "print(z3_ascending)\n",
    "print(z3_descending)"
   ]
  },
  {
   "cell_type": "markdown",
   "metadata": {},
   "source": [
    "* the indices of the sorted elements in the original array? (np.argsort)"
   ]
  },
  {
   "cell_type": "code",
   "execution_count": null,
   "metadata": {},
   "outputs": [],
   "source": [
    "print(np.argsort(z1, axis=None))\n",
    "print(np.argsort(z1, axis=0))\n",
    "print(np.argsort(z1, axis=-1))\n",
    "print(np.argsort(-z1, axis=None))\n",
    "print(np.argsort(-z1, axis=0))\n",
    "print(np.argsort(-z1, axis=-1))"
   ]
  },
  {
   "cell_type": "markdown",
   "metadata": {},
   "source": [
    "write a loop:\n",
    "\n",
    "* in iteration i:\n",
    "    * the element of x2 corresponding to the i-th smallest element of x1 is multiplied by i."
   ]
  },
  {
   "cell_type": "code",
   "execution_count": null,
   "metadata": {},
   "outputs": [],
   "source": [
    "print(x1)\n",
    "print(x2)\n",
    "print('x1_ascending =', np.sort(x1, axis=None))\n",
    "x1_ascending_index = np.argsort(x1, axis=None)\n",
    "print(x1_ascending_index)\n",
    "\n",
    "for i in range(0, len(x1_ascending_index)):\n",
    "    x2[x1_ascending_index[i]] = x2[x1_ascending_index[i]]*i\n",
    "    \n",
    "print(x2)"
   ]
  },
  {
   "cell_type": "markdown",
   "metadata": {},
   "source": [
    "* do this without a loop"
   ]
  },
  {
   "cell_type": "code",
   "execution_count": null,
   "metadata": {},
   "outputs": [],
   "source": [
    "print(x2)\n",
    "x1_ascending_index = np.argsort(x1, axis=None)\n",
    "print(x1_ascending_index)\n",
    "x2[x1_ascending_index] = x2[x1_ascending_index] * np.arange(x2.shape[0])\n",
    "print(x2)"
   ]
  },
  {
   "cell_type": "markdown",
   "metadata": {},
   "source": [
    "write a loop:\n",
    "\n",
    "* in iteration i:\n",
    "    * the element of x2 corresponding to the i-th largest element of x1 is multiplied by the i-the smallest element of x1."
   ]
  },
  {
   "cell_type": "code",
   "execution_count": null,
   "metadata": {},
   "outputs": [],
   "source": [
    "x3 = []\n",
    "x1_descending_index = np.argsort(-x1, axis=None)\n",
    "print(x1_descending_index)\n",
    "for i in range(0, len(x1_descending_index)):\n",
    "    x3 = np.append(x3, x2[x1_descending_index[i]]*x1[x1_ascending_index[i]])\n",
    "    \n",
    "print(x3)"
   ]
  },
  {
   "cell_type": "markdown",
   "metadata": {},
   "source": [
    "* do this without a loop"
   ]
  },
  {
   "cell_type": "code",
   "execution_count": null,
   "metadata": {},
   "outputs": [],
   "source": [
    "print(x1)\n",
    "print(x2)\n",
    "x1_descending_index = np.argsort(-x1, axis=None)\n",
    "x1_ascending_index = np.argsort(x1, axis=None)\n",
    "print(x1_ascending_index)\n",
    "print(x1_descending_index)\n",
    "x2[x1_descending_index] = x2[x1_descending_index] * x1[x1_ascending_index]\n",
    "print(x2)"
   ]
  }
 ],
 "metadata": {
  "celltoolbar": "Raw Cell Format",
  "kernelspec": {
   "display_name": "Python 3",
   "language": "python",
   "name": "python3"
  },
  "language_info": {
   "codemirror_mode": {
    "name": "ipython",
    "version": 3
   },
   "file_extension": ".py",
   "mimetype": "text/x-python",
   "name": "python",
   "nbconvert_exporter": "python",
   "pygments_lexer": "ipython3",
   "version": "3.6.9"
  }
 },
 "nbformat": 4,
 "nbformat_minor": 4
}
