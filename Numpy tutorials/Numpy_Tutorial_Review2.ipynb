{
 "cells": [
  {
   "cell_type": "markdown",
   "metadata": {},
   "source": [
    "# Playing with Numpy: Review 2\n",
    "\n",
    "In this tutorial, I tried to include questions that help a Python biginner to get started with Numpy. I believe this notebook is mostly like a play ground for a biginner to play with numpy functions and explore this important Python package.\n",
    "\n",
    "I know there are many Numpy notebooks out there, but I would say the advantage of this notebook over other notebooks I saw is that I prepared the questions looking back at the time I was learning Python and Numpy. Therefore, the questions are based on the practical points that I came across during my self-learning of Python - not as a professional Python programmer who wants to teach others. Therefore, the structure of the notebook seems a bit messy and like a self-taught learner's notebook, which I don't find a negative aspect and I kind of intentionally prepared the questions in this direction. Because, I find self-learning the best practice of learning programming. One should get hands dirty and play with functions. This notebook can guide a Python biginner to learn Numpy by self-learning! If you are interested to use this notebook as your play ground, I suggest you not to look at the answers and write your own by googling. Google is the best source of learning programming. Look at this notebook as a source of what to google!\n",
    "\n",
    "The notebook is not very coherent since it was not prepared for a systematic workshop, but I just prepared it for a friend.\n",
    "\n",
    "(C) prepared by Mina Jamshidi (https://github.com/minajamshidi) (2020)."
   ]
  },
  {
   "cell_type": "markdown",
   "metadata": {},
   "source": [
    "Build these arrays:\n",
    "* x = an ndarray equivalent to MATLAB's 1:2:23. \n",
    "    * I want you to keep x as a one-dimensional array.\n",
    "* y = a random ndarray with the same shape as x.\n",
    "    * Draw the elements of y from a standard normal distribution. \n",
    "    * seed the random number generator so that every time we run your code, we get the same elements in y. (check the note below.) you should use numpy.random.seed\n",
    "    \n",
    "    \n",
    "* **Note**: I think it is a good chance here to get to know how *seeds* work for generating random numbers. \n",
    "\n",
    "    * get to know how pseudo-random number generators work exactly, find out what is meant by the term *pseudo-random number* and what is a *seed* of a generator of such numbers. \n",
    "   "
   ]
  },
  {
   "cell_type": "code",
   "execution_count": null,
   "metadata": {},
   "outputs": [],
   "source": []
  },
  {
   "cell_type": "markdown",
   "metadata": {},
   "source": [
    "Compute these arrays from x and y:\n",
    "\n",
    "* x0 = reshape x into a new array with its first dimension equal to 2.\n",
    "    * Assume you don't want to use `x.shape` for determining the shape of x0. You only know that the first dimension of x0 is 2 and you don't know the second dimension (I know you can compute it, but here we don't want to do so.)\n",
    "* x1 = the elements of x which are multiples of 3\n",
    "* y1 = the elements of y, whose corresponsing elements in x are larger or euqal to 7\n",
    "    * Please do it in two ways: once with logical indexing (this is always prefered), and also by extracting the indeces of the target elements in x and then extracting the corresponding elements in y.\n"
   ]
  },
  {
   "cell_type": "code",
   "execution_count": null,
   "metadata": {},
   "outputs": [],
   "source": []
  },
  {
   "cell_type": "markdown",
   "metadata": {},
   "source": [
    "Build these arrays:\n",
    "* z1 =  a random vector of integers with the length of number of samples in y\n",
    "    * In the same line (where you build the array) reshape the generated vector into a two dimensional array with the second dimension equal to 1 (In principle you can decide how to do it, but, here, please do it with two methods that you already learned)\n",
    "    * seed the random number generator\n",
    "* z2 =  another random vector of integers of similar length as z1\n",
    "    * In the same line (where you build the array) reshape the generated vector into a two dimensional array with the first dimension equal to 1. Do it the way you prefer."
   ]
  },
  {
   "cell_type": "code",
   "execution_count": null,
   "metadata": {},
   "outputs": [],
   "source": []
  },
  {
   "cell_type": "markdown",
   "metadata": {},
   "source": [
    "Now it is the time to examine how well you got the concept of broadcasting;-) I am sure you got it well, that's why I decided not to write straightforward examples again. Here, we look only at a scenario which was confusing for *me* the first time I faced it. Of course it may not be confusing for you now since you already read about broadcasting. Besides, this example shows you why I emphasized from the beginning to pay attention to the dimensions of ndarrays, whether they are one-dimensional or two-dimensional. \n",
    "\n",
    "* We want to multiply (element-wise) x by z1 and z2, i.e. do `x * z1` and `x * z2` (also `z1 * x` and `z2 * x`). Check the results.\n",
    "    * Before writing the codes. Think of what you expect. Can you predict what you get as a result from each of the above operations? Write your predictions down here.\n",
    "    * After doing the operation: can you explain fully what happened?"
   ]
  },
  {
   "cell_type": "code",
   "execution_count": null,
   "metadata": {},
   "outputs": [],
   "source": []
  },
  {
   "cell_type": "markdown",
   "metadata": {},
   "source": [
    "Review sorting for yourself :-)\n",
    "* sorting a 2D array along first or second axis.\n",
    "* argsort--> the index of sorted arrays."
   ]
  },
  {
   "cell_type": "code",
   "execution_count": null,
   "metadata": {},
   "outputs": [],
   "source": []
  }
 ],
 "metadata": {
  "kernelspec": {
   "display_name": "Python 3",
   "language": "python",
   "name": "python3"
  },
  "language_info": {
   "codemirror_mode": {
    "name": "ipython",
    "version": 3
   },
   "file_extension": ".py",
   "mimetype": "text/x-python",
   "name": "python",
   "nbconvert_exporter": "python",
   "pygments_lexer": "ipython3",
   "version": "3.6.9"
  }
 },
 "nbformat": 4,
 "nbformat_minor": 2
}
