{
 "cells": [
  {
   "cell_type": "markdown",
   "metadata": {},
   "source": [
    "# Playing with Numpy: Review1\n",
    "\n",
    "In this tutorial, I tried to include questions that help a Python biginner to get started with Numpy. I believe this notebook is mostly like a play ground for a biginner to play with numpy functions and explore this important Python package.\n",
    "\n",
    "I know there are many Numpy notebooks out there, but I would say the advantage of this notebook over other notebooks I saw is that I prepared the questions looking back at the time I was learning Python and Numpy. Therefore, the questions are based on the practical points that I came across during my self-learning of Python - not as a professional Python programmer who wants to teach others. Therefore, the structure of the notebook seems a bit messy and like a self-taught learner's notebook, which I don't find a negative aspect and I kind of intentionally prepared the questions in this direction. Because, I find self-learning the best practice of learning programming. One should get hands dirty and play with functions. This notebook can guide a Python biginner to learn Numpy by self-learning! If you are interested to use this notebook as your play ground, I suggest you not to look at the answers and write your own by googling. Google is the best source of learning programming. Look at this notebook as a source of what to google!\n",
    "\n",
    "The notebook is not very coherent since it was not prepared for a systematic workshop, but I just prepared it for a friend.\n",
    "\n",
    "(C) prepared by Mina Jamshidi (https://github.com/minajamshidi) (2020)."
   ]
  },
  {
   "cell_type": "markdown",
   "metadata": {},
   "source": [
    "## arrays and shapes"
   ]
  },
  {
   "cell_type": "markdown",
   "metadata": {},
   "source": [
    "* Make two ndarrays of shape (3,), (3, 1), called y1 and y2 respectively.\n",
    "What is their difference?"
   ]
  },
  {
   "cell_type": "code",
   "execution_count": null,
   "metadata": {},
   "outputs": [],
   "source": []
  },
  {
   "cell_type": "markdown",
   "metadata": {},
   "source": [
    "* How would you check how many dimensions an ndarray has? Check it for y1 and y2."
   ]
  },
  {
   "cell_type": "code",
   "execution_count": null,
   "metadata": {},
   "outputs": [],
   "source": []
  },
  {
   "cell_type": "markdown",
   "metadata": {},
   "source": [
    "* Make an ndarray, called x, with shape (4, 3)."
   ]
  },
  {
   "cell_type": "code",
   "execution_count": null,
   "metadata": {},
   "outputs": [],
   "source": []
  },
  {
   "cell_type": "markdown",
   "metadata": {},
   "source": [
    "* What is the difference of x[2, :] and x[2:3, :]?"
   ]
  },
  {
   "cell_type": "code",
   "execution_count": null,
   "metadata": {},
   "outputs": [],
   "source": []
  },
  {
   "cell_type": "markdown",
   "metadata": {},
   "source": [
    "* Do you remember the details of:\n",
    "    * Extracting rows/columns of an array --> extract 2nd and 3rd rows of x.\n",
    "    * Negative indexing of the elements of an array. --> extract the last column of x.\n",
    "    * How to flip an array or its columns/rows. -->flip the rows of x. (reverse the rows)"
   ]
  },
  {
   "cell_type": "code",
   "execution_count": null,
   "metadata": {},
   "outputs": [],
   "source": []
  },
  {
   "cell_type": "markdown",
   "metadata": {},
   "source": [
    "## reshape"
   ]
  },
  {
   "cell_type": "markdown",
   "metadata": {},
   "source": [
    "* What is the difference of np.reshape and ndarray.reshape?"
   ]
  },
  {
   "cell_type": "code",
   "execution_count": null,
   "metadata": {},
   "outputs": [],
   "source": []
  },
  {
   "cell_type": "markdown",
   "metadata": {},
   "source": [
    "* Transpose x."
   ]
  },
  {
   "cell_type": "code",
   "execution_count": null,
   "metadata": {},
   "outputs": [],
   "source": []
  },
  {
   "cell_type": "markdown",
   "metadata": {},
   "source": [
    "* Do you remember the \"order\" argument of reshape function? Show the difference of 'C' and 'F' with an example on x."
   ]
  },
  {
   "cell_type": "code",
   "execution_count": null,
   "metadata": {},
   "outputs": [],
   "source": []
  },
  {
   "cell_type": "markdown",
   "metadata": {},
   "source": [
    "* Flatten x. Do you remember the difference of ravel and flatten?"
   ]
  },
  {
   "cell_type": "code",
   "execution_count": null,
   "metadata": {},
   "outputs": [],
   "source": []
  },
  {
   "cell_type": "markdown",
   "metadata": {},
   "source": [
    "## axis "
   ]
  },
  {
   "cell_type": "markdown",
   "metadata": {},
   "source": [
    "* Do you remember the axis parameter? Write an example with np.mean on x to show its role in matrix computations."
   ]
  },
  {
   "cell_type": "code",
   "execution_count": null,
   "metadata": {},
   "outputs": [],
   "source": []
  },
  {
   "cell_type": "markdown",
   "metadata": {},
   "source": [
    "* check np.min and np.argmin. What do they do? Pay attention to axis parameter. "
   ]
  },
  {
   "cell_type": "code",
   "execution_count": null,
   "metadata": {},
   "outputs": [],
   "source": []
  }
 ],
 "metadata": {
  "kernelspec": {
   "display_name": "Python 3",
   "language": "python",
   "name": "python3"
  },
  "language_info": {
   "codemirror_mode": {
    "name": "ipython",
    "version": 3
   },
   "file_extension": ".py",
   "mimetype": "text/x-python",
   "name": "python",
   "nbconvert_exporter": "python",
   "pygments_lexer": "ipython3",
   "version": "3.6.9"
  }
 },
 "nbformat": 4,
 "nbformat_minor": 2
}
